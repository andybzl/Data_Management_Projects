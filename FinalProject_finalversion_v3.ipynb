{
 "cells": [
  {
   "cell_type": "markdown",
   "metadata": {},
   "source": [
    "# Final Project - Group 18\n",
    "#####  Zili Bu - G36963059\n",
    "#####  Mengxin Tan - G38541671\n",
    "#####  Junyi Qian - G37449683\n",
    "#####  Michael Lombardo - G47242943"
   ]
  },
  {
   "cell_type": "markdown",
   "metadata": {},
   "source": [
    "## Brief Introduction"
   ]
  },
  {
   "cell_type": "markdown",
   "metadata": {},
   "source": [
    "*We found the dataset from the Office of Foreign Labor Certification which is a division of the Department of Labor. \n",
    "The office is responsible for enforcing certain labor conditions and laws before employers can hire foreign workers. \n",
    "The most common mission is to verify whether foreign workers are qualified to obtain H1B visa.\n",
    "We are aiming to analyze how factors such as wage, employer, case relative or position influence the result of a H1B application and we believe that analyzing the contents of the labor condition application would be helpful to both foreign students who are looking for jobs in United States and companies who are looking to attain wage data on their competitors.*\n",
    "\n",
    "* Data Link: https://www.kaggle.com/trivedicharmi/h1b-disclosure-dataset#1.%20Master%20H1B%20Dataset.csv"
   ]
  },
  {
   "cell_type": "markdown",
   "metadata": {},
   "source": [
    "## Business questions we are interested"
   ]
  },
  {
   "cell_type": "markdown",
   "metadata": {},
   "source": [
    "* 1.How is status of a case affected by other data elements and can they identify a pattern in certification or denial?"
   ]
  },
  {
   "cell_type": "markdown",
   "metadata": {},
   "source": [
    "* 2.Which companies request the most foreign (H1B) employees and how have the requests changed by year for these companies? Which industries do these companies work in?"
   ]
  },
  {
   "cell_type": "markdown",
   "metadata": {},
   "source": [
    "* 3.Which industries offer the highest annual wages and how do the wages compare for competitors in the top occupations?  How do wages vary over location?"
   ]
  },
  {
   "cell_type": "markdown",
   "metadata": {},
   "source": [
    "## Concerns about our dataset"
   ]
  },
  {
   "cell_type": "markdown",
   "metadata": {},
   "source": [
    "* 1.We do not know the reason for how each case is decided on."
   ]
  },
  {
   "cell_type": "markdown",
   "metadata": {},
   "source": [
    "* 2.The data is exclusively of decisions made in 2016 and 2017."
   ]
  },
  {
   "cell_type": "markdown",
   "metadata": {},
   "source": [
    "* 3.The data provider takes out 13 columns due to privacy reasons. So we do not have full infomation about each row. "
   ]
  },
  {
   "cell_type": "markdown",
   "metadata": {},
   "source": [
    "### Load SQL "
   ]
  },
  {
   "cell_type": "code",
   "execution_count": 1,
   "metadata": {},
   "outputs": [],
   "source": [
    "!dropdb -U student week12"
   ]
  },
  {
   "cell_type": "code",
   "execution_count": 2,
   "metadata": {},
   "outputs": [],
   "source": [
    "!createdb -U student week12"
   ]
  },
  {
   "cell_type": "code",
   "execution_count": 3,
   "metadata": {},
   "outputs": [],
   "source": [
    "%load_ext sql"
   ]
  },
  {
   "cell_type": "code",
   "execution_count": 4,
   "metadata": {},
   "outputs": [
    {
     "data": {
      "text/plain": [
       "'Connected: student@week12'"
      ]
     },
     "execution_count": 4,
     "metadata": {},
     "output_type": "execute_result"
    }
   ],
   "source": [
    "%sql postgresql://student@/week12"
   ]
  },
  {
   "cell_type": "markdown",
   "metadata": {},
   "source": [
    "### Wrangling data"
   ]
  },
  {
   "cell_type": "markdown",
   "metadata": {},
   "source": [
    "```\n",
    "filter type: custom rowType: single row: ISMISSING([EMPLOYER_STATE]) action: Delete\n",
    "settype col: PREVAILING_WAGE type: Float\n",
    "filter type: custom rowType: single row: ISMISSING([PW_UNIT_OF_PAY]) action: Delete\n",
    "filter type: custom rowType: single row: ISMISMATCHED(PW_SOURCE_YEAR, ['Datetime','yy','yyyy']) action: Delete\n",
    "settype col: WAGE_RATE_OF_PAY_FROM type: Float\n",
    "settype col: WAGE_RATE_OF_PAY_TO type: Float\n",
    "settype col: CASE_SUBMITTED_MONTH customType: 'Datetime','mm-dd-yy','mm*dd*yyyy' type: custom\n",
    "settype col: CASE_SUBMITTED_MONTH type: Integer\n",
    "derive type: single value: DATEFORMAT(DATE(CASE_SUBMITTED_YEAR, CASE_SUBMITTED_MONTH, CASE_SUBMITTED_DAY), 'yyyy-MM-dd') as: 'CASE_SUBMITTED_DATE'\n",
    "settype col: CASE_SUBMITTED_YEAR type: Integer\n",
    "drop col: CASE_SUBMITTED_DATE action: Drop\n",
    "derive type: single value: DATEFORMAT(DATE(CASE_SUBMITTED_YEAR, CASE_SUBMITTED_MONTH, CASE_SUBMITTED_DAY), 'yyyy-MM-dd') as: 'CASE_SUBMITTED_DATE'\n",
    "settype col: DECISION_YEAR type: Integer\n",
    "derive type: single value: DATEFORMAT(DATE(DECISION_YEAR, DECISION_MONTH, DECISION_DAY), 'yyyy-MM-dd') as: 'DECISION_DATE'\n",
    "derive type: single value: DATEDIF(CASE_SUBMITTED_DATE, DECISION_DATE, day) as: 'CASE_DECISION_DURATION'\n",
    "settype col: WORKSITE_POSTAL_CODE type: String\n",
    "settype col: PW_SOURCE_YEAR type: Integer\n",
    "settype col: NAICS_CODE type: Integer\n",
    "settype col: WORKSITE_POSTAL_CODE type: Integer\n",
    "filter type: custom rowType: single row: ISMISSING([{H-1B_DEPENDENT}]) action: Delete\n",
    "filter type: missing missing: WILLFUL_VIOLATOR action: Delete\n",
    "filter type: missing missing: FULL_TIME_POSITION action: Delete\n",
    "filter type: missing missing: WAGE_UNIT_OF_PAY action: Delete\n",
    "filter type: missing missing: PW_SOURCE action: Delete\n",
    "filter type: missing missing: PW_SOURCE_YEAR action: Delete\n",
    "filter type: missing missing: EMPLOYER_NAME action: Delete\n",
    "filter type: missing missing: PW_SOURCE_OTHER action: Delete\n",
    "```"
   ]
  },
  {
   "cell_type": "markdown",
   "metadata": {},
   "source": [
    "```\n",
    "We used Excel to calculate the annual wage becaues the unit of payment is not consistent, \n",
    "with different units of year, week, month or biweekly.\n",
    "We generate two date columns and add two more derived attributes which are duration and wage difference\n",
    "```"
   ]
  },
  {
   "cell_type": "markdown",
   "metadata": {},
   "source": [
    "### Load data from where it was uploaded (S3)"
   ]
  },
  {
   "cell_type": "code",
   "execution_count": 5,
   "metadata": {},
   "outputs": [
    {
     "name": "stdout",
     "output_type": "stream",
     "text": [
      "--2019-11-30 15:26:48--  https://aws-athena-query-results-644972362552-us-east-1.s3.amazonaws.com/h1b.csv\n",
      "Resolving aws-athena-query-results-644972362552-us-east-1.s3.amazonaws.com (aws-athena-query-results-644972362552-us-east-1.s3.amazonaws.com)... 52.216.185.91\n",
      "Connecting to aws-athena-query-results-644972362552-us-east-1.s3.amazonaws.com (aws-athena-query-results-644972362552-us-east-1.s3.amazonaws.com)|52.216.185.91|:443... connected.\n",
      "HTTP request sent, awaiting response... 200 OK\n",
      "Length: 106821965 (102M) [text/csv]\n",
      "Saving to: ‘h1b.csv’\n",
      "\n",
      "h1b.csv             100%[===================>] 101.87M  52.2MB/s    in 2.0s    \n",
      "\n",
      "2019-11-30 15:26:50 (52.2 MB/s) - ‘h1b.csv’ saved [106821965/106821965]\n",
      "\n"
     ]
    }
   ],
   "source": [
    "!wget https://aws-athena-query-results-644972362552-us-east-1.s3.amazonaws.com/h1b.csv"
   ]
  },
  {
   "cell_type": "markdown",
   "metadata": {},
   "source": [
    "### Have a glance of the dataset"
   ]
  },
  {
   "cell_type": "code",
   "execution_count": 6,
   "metadata": {},
   "outputs": [
    {
     "name": "stdout",
     "output_type": "stream",
     "text": [
      "517783 h1b.csv\n"
     ]
    }
   ],
   "source": [
    "!wc -l h1b.csv"
   ]
  },
  {
   "cell_type": "code",
   "execution_count": 7,
   "metadata": {},
   "outputs": [
    {
     "name": "stdout",
     "output_type": "stream",
     "text": [
      "  1: CASE_SUBMITTED_DAY\n",
      "  2: CASE_SUBMITTED_MONTH\n",
      "  3: CASE_SUBMITTED_YEAR\n",
      "  4: CASE_SUBMITTED_DATE\n",
      "  5: DECISION_DAY\n",
      "  6: DECISION_MONTH\n",
      "  7: DECISION_YEAR\n",
      "  8: DECISION_DATE\n",
      "  9: CASE_DECISION_DURATION\n",
      " 10: VISA_CLASS\n",
      " 11: EMPLOYER_NAME\n",
      " 12: EMPLOYER_STATE\n",
      " 13: EMPLOYER_COUNTRY\n",
      " 14: SOC_NAME\n",
      " 15: NAICS_CODE\n",
      " 16: TOTAL_WORKERS\n",
      " 17: FULL_TIME_POSITION\n",
      " 18: PREVAILING_WAGE_ANNUAL\n",
      " 19: PW_SOURCE\n",
      " 20: PW_SOURCE_YEAR\n",
      " 21: PW_SOURCE_OTHER\n",
      " 22: WAGE_RATE_OF_PAY_FROM\n",
      " 23: WAGE_RATE_OF_PAY_TO\n",
      " 24: WAGE_ANNUAL\n",
      " 25: WAGE_DIF\n",
      " 26: H-1B_DEPENDENT\n",
      " 27: WILLFUL_VIOLATOR\n",
      " 28: WORKSITE_STATE\n",
      " 29: WORKSITE_POSTAL_CODE\n",
      " 30: CASE_STATUS\n"
     ]
    }
   ],
   "source": [
    "!csvcut -n h1b.csv"
   ]
  },
  {
   "cell_type": "markdown",
   "metadata": {},
   "source": [
    "### Further explore data to understand data types of each column, length of values"
   ]
  },
  {
   "cell_type": "code",
   "execution_count": 9,
   "metadata": {},
   "outputs": [
    {
     "name": "stdout",
     "output_type": "stream",
     "text": [
      "  1. \"CASE_SUBMITTED_DAY\"\n",
      "\n",
      "\tType of data:          Number\n",
      "\tContains null values:  False\n",
      "\tUnique values:         31\n",
      "\tSmallest value:        1\n",
      "\tLargest value:         31\n",
      "\tSum:                   128,859\n",
      "\tMean:                  25.777\n",
      "\tMedian:                28\n",
      "\tStDev:                 6.585\n",
      "\tMost common values:    27 (1247x)\n",
      "\t                       28 (1220x)\n",
      "\t                       29 (982x)\n",
      "\t                       30 (732x)\n",
      "\t                       3 (65x)\n",
      "\n",
      "  2. \"CASE_SUBMITTED_MONTH\"\n",
      "\n",
      "\tType of data:          Number\n",
      "\tContains null values:  False\n",
      "\tUnique values:         12\n",
      "\tSmallest value:        1\n",
      "\tLargest value:         12\n",
      "\tSum:                   41,904\n",
      "\tMean:                  8.382\n",
      "\tMedian:                9\n",
      "\tStDev:                 1.897\n",
      "\tMost common values:    9 (4207x)\n",
      "\t                       3 (332x)\n",
      "\t                       10 (118x)\n",
      "\t                       2 (85x)\n",
      "\t                       8 (54x)\n",
      "\n",
      "  3. \"CASE_SUBMITTED_YEAR\"\n",
      "\n",
      "\tType of data:          Number\n",
      "\tContains null values:  False\n",
      "\tUnique values:         4\n",
      "\tSmallest value:        2,013\n",
      "\tLargest value:         2,016\n",
      "\tSum:                   10,077,441\n",
      "\tMean:                  2,015.891\n",
      "\tMedian:                2,016\n",
      "\tStDev:                 0.419\n",
      "\tMost common values:    2,016 (4627x)\n",
      "\t                       2,015 (226x)\n",
      "\t                       2,014 (121x)\n",
      "\t                       2,013 (25x)\n",
      "\n",
      "  4. \"CASE_SUBMITTED_DATE\"\n",
      "\n",
      "\tType of data:          Date\n",
      "\tContains null values:  False\n",
      "\tUnique values:         332\n",
      "\tSmallest value:        2013-04-12\n",
      "\tLargest value:         2016-10-05\n",
      "\tMost common values:    2016-09-27 (1230x)\n",
      "\t                       2016-09-28 (1208x)\n",
      "\t                       2016-09-29 (972x)\n",
      "\t                       2016-09-30 (727x)\n",
      "\t                       2016-10-03 (40x)\n",
      "\n",
      "  5. \"DECISION_DAY\"\n",
      "\n",
      "\tType of data:          Number\n",
      "\tContains null values:  False\n",
      "\tUnique values:         6\n",
      "\tSmallest value:        1\n",
      "\tLargest value:         6\n",
      "\tSum:                   21,549\n",
      "\tMean:                  4.311\n",
      "\tMedian:                4\n",
      "\tStDev:                 1.095\n",
      "\tMost common values:    3 (1449x)\n",
      "\t                       4 (1442x)\n",
      "\t                       5 (1142x)\n",
      "\t                       6 (949x)\n",
      "\t                       2 (13x)\n",
      "\n",
      "  6. \"DECISION_MONTH\"\n",
      "\n",
      "\tType of data:          Number\n",
      "\tContains null values:  False\n",
      "\tUnique values:         1\n",
      "\tSmallest value:        10\n",
      "\tLargest value:         10\n",
      "\tSum:                   49,990\n",
      "\tMean:                  10\n",
      "\tMedian:                10\n",
      "\tStDev:                 0\n",
      "\tMost common values:    10 (4999x)\n",
      "\n",
      "  7. \"DECISION_YEAR\"\n",
      "\n",
      "\tType of data:          Number\n",
      "\tContains null values:  False\n",
      "\tUnique values:         1\n",
      "\tSmallest value:        2,016\n",
      "\tLargest value:         2,016\n",
      "\tSum:                   10,077,984\n",
      "\tMean:                  2,016\n",
      "\tMedian:                2,016\n",
      "\tStDev:                 0\n",
      "\tMost common values:    2,016 (4999x)\n",
      "\n",
      "  8. \"DECISION_DATE\"\n",
      "\n",
      "\tType of data:          Date\n",
      "\tContains null values:  False\n",
      "\tUnique values:         6\n",
      "\tSmallest value:        2016-10-01\n",
      "\tLargest value:         2016-10-06\n",
      "\tMost common values:    2016-10-03 (1449x)\n",
      "\t                       2016-10-04 (1442x)\n",
      "\t                       2016-10-05 (1142x)\n",
      "\t                       2016-10-06 (949x)\n",
      "\t                       2016-10-02 (13x)\n",
      "\n",
      "  9. \"CASE_DECISION_DURATION\"\n",
      "\n",
      "\tType of data:          Number\n",
      "\tContains null values:  False\n",
      "\tUnique values:         367\n",
      "\tSmallest value:        0\n",
      "\tLargest value:         1,272\n",
      "\tSum:                   335,815\n",
      "\tMean:                  67.176\n",
      "\tMedian:                6\n",
      "\tStDev:                 185.981\n",
      "\tMost common values:    6 (4055x)\n",
      "\t                       0 (55x)\n",
      "\t                       4 (36x)\n",
      "\t                       217 (32x)\n",
      "\t                       5 (30x)\n",
      "\n",
      " 10. \"VISA_CLASS\"\n",
      "\n",
      "\tType of data:          Text\n",
      "\tContains null values:  False\n",
      "\tUnique values:         2\n",
      "\tLongest value:         13 characters\n",
      "\tMost common values:    H1B (4990x)\n",
      "\t                       E3 Australian (9x)\n",
      "\n",
      " 11. \"EMPLOYER_NAME\"\n",
      "\n",
      "\tType of data:          Text\n",
      "\tContains null values:  True (excluded from calculations)\n",
      "\tUnique values:         2264\n",
      "\tLongest value:         69 characters\n",
      "\tMost common values:    INFOSYS LIMITED (215x)\n",
      "\t                       AVIGHNA GLOBAL SOLUTIONS LLC (141x)\n",
      "\t                       DELOITTE CONSULTING LLP (94x)\n",
      "\t                       TATA CONSULTANCY SERVICES LIMITED (87x)\n",
      "\t                       ACCENTURE LLP (85x)\n",
      "\n",
      " 12. \"EMPLOYER_STATE\"\n",
      "\n",
      "\tType of data:          Text\n",
      "\tContains null values:  False\n",
      "\tUnique values:         50\n",
      "\tLongest value:         2 characters\n",
      "\tMost common values:    CA (761x)\n",
      "\t                       NJ (752x)\n",
      "\t                       TX (700x)\n",
      "\t                       IL (403x)\n",
      "\t                       NY (326x)\n",
      "\n",
      " 13. \"EMPLOYER_COUNTRY\"\n",
      "\n",
      "\tType of data:          Text\n",
      "\tContains null values:  False\n",
      "\tUnique values:         1\n",
      "\tLongest value:         24 characters\n",
      "\tMost common values:    UNITED STATES OF AMERICA (4999x)\n",
      "\n",
      " 14. \"SOC_NAME\"\n",
      "\n",
      "\tType of data:          Text\n",
      "\tContains null values:  False\n",
      "\tUnique values:         47\n",
      "\tLongest value:         33 characters\n",
      "\tMost common values:    COMPUTER OCCUPATION (2501x)\n",
      "\t                       ANALYSTS (1259x)\n",
      "\t                       ENGINEERS (280x)\n",
      "\t                       SCIENTIST (175x)\n",
      "\t                       EDUCATION (106x)\n",
      "\n",
      " 15. \"NAICS_CODE\"\n",
      "\n",
      "\tType of data:          Number\n",
      "\tContains null values:  False\n",
      "\tUnique values:         393\n",
      "\tSmallest value:        2,211\n",
      "\tLargest value:         926,130\n",
      "\tSum:                   2,190,343,029\n",
      "\tMean:                  438,156.237\n",
      "\tMedian:                541,511\n",
      "\tStDev:                 203,285.951\n",
      "\tMost common values:    541,511 (1928x)\n",
      "\t                       611,310 (235x)\n",
      "\t                       541,512 (207x)\n",
      "\t                       5,416 (183x)\n",
      "\t                       54,151 (138x)\n",
      "\n",
      " 16. \"TOTAL_WORKERS\"\n",
      "\n",
      "\tType of data:          Number\n",
      "\tContains null values:  False\n",
      "\tUnique values:         15\n",
      "\tSmallest value:        0\n",
      "\tLargest value:         50\n",
      "\tSum:                   7,937\n",
      "\tMean:                  1.588\n",
      "\tMedian:                1\n",
      "\tStDev:                 2.964\n",
      "\tMost common values:    1 (4680x)\n",
      "\t                       15 (123x)\n",
      "\t                       3 (69x)\n",
      "\t                       5 (32x)\n",
      "\t                       2 (28x)\n",
      "\n",
      " 17. \"FULL_TIME_POSITION\"\n",
      "\n",
      "\tType of data:          Boolean\n",
      "\tContains null values:  False\n",
      "\tUnique values:         2\n",
      "\tMost common values:    True (4912x)\n",
      "\t                       False (87x)\n",
      "\n",
      " 18. \"PREVAILING_WAGE_ANNUAL\"\n",
      "\n",
      "\tType of data:          Number\n",
      "\tContains null values:  False\n",
      "\tUnique values:         2118\n",
      "\tSmallest value:        26,707\n",
      "\tLargest value:         283,421\n",
      "\tSum:                   395,994,822.67\n",
      "\tMean:                  79,214.807\n",
      "\tMedian:                74,048\n",
      "\tStDev:                 27,137.474\n",
      "\tMost common values:    53,518 (65x)\n",
      "\t                       122,533 (45x)\n",
      "\t                       90,813 (40x)\n",
      "\t                       46,571 (31x)\n",
      "\t                       57,907 (29x)\n",
      "\n",
      " 19. \"PW_SOURCE\"\n",
      "\n",
      "\tType of data:          Text\n",
      "\tContains null values:  False\n",
      "\tUnique values:         5\n",
      "\tLongest value:         5 characters\n",
      "\tMost common values:    OES (4001x)\n",
      "\t                       Other (967x)\n",
      "\t                       CBA (29x)\n",
      "\t                       DBA (1x)\n",
      "\t                       SCA (1x)\n",
      "\n",
      " 20. \"PW_SOURCE_YEAR\"\n",
      "\n",
      "\tType of data:          Number\n",
      "\tContains null values:  False\n",
      "\tUnique values:         6\n",
      "\tSmallest value:        1,993\n",
      "\tLargest value:         2,016\n",
      "\tSum:                   10,076,947\n",
      "\tMean:                  2,015.793\n",
      "\tMedian:                2,016\n",
      "\tStDev:                 0.664\n",
      "\tMost common values:    2,016 (4329x)\n",
      "\t                       2,015 (414x)\n",
      "\t                       2,014 (167x)\n",
      "\t                       2,013 (86x)\n",
      "\t                       2,012 (2x)\n",
      "\n",
      " 21. \"PW_SOURCE_OTHER\"\n",
      "\n",
      "\tType of data:          Text\n",
      "\tContains null values:  True (excluded from calculations)\n",
      "\tUnique values:         21\n",
      "\tLongest value:         76 characters\n",
      "\tMost common values:    OFLC ONLINE DATA CENTER (4713x)\n",
      "\t                       RADFORD GLOBAL SURVEY (79x)\n",
      "\t                       None (55x)\n",
      "\t                       WILLIS TOWERS WATSON SURVEY (53x)\n",
      "\t                       ONLINE WAGE LIBRARY (30x)\n",
      "\n",
      " 22. \"WAGE_RATE_OF_PAY_FROM\"\n",
      "\n",
      "\tType of data:          Number\n",
      "\tContains null values:  False\n",
      "\tUnique values:         1936\n",
      "\tSmallest value:        16\n",
      "\tLargest value:         650,000\n",
      "\tSum:                   431,248,652.28\n",
      "\tMean:                  86,266.984\n",
      "\tMedian:                80,000\n",
      "\tStDev:                 41,285.635\n",
      "\tMost common values:    60,000 (261x)\n",
      "\t                       70,000 (123x)\n",
      "\t                       75,000 (101x)\n",
      "\t                       65,000 (97x)\n",
      "\t                       100,000 (96x)\n",
      "\n",
      " 23. \"WAGE_RATE_OF_PAY_TO\"\n",
      "\n",
      "\tType of data:          Number\n",
      "\tContains null values:  False\n",
      "\tUnique values:         481\n",
      "\tSmallest value:        0\n",
      "\tLargest value:         650,000\n",
      "\tSum:                   138,100,815.34\n",
      "\tMean:                  27,625.688\n",
      "\tMedian:                0\n",
      "\tStDev:                 54,612.511\n",
      "\tMost common values:    0 (3795x)\n",
      "\t                       100,000 (40x)\n",
      "\t                       110,000 (38x)\n",
      "\t                       120,000 (37x)\n",
      "\t                       125,000 (34x)\n",
      "\n",
      " 24. \"WAGE_ANNUAL\"\n",
      "\n",
      "\tType of data:          Number\n",
      "\tContains null values:  False\n",
      "\tUnique values:         1905\n",
      "\tSmallest value:        30,000\n",
      "\tLargest value:         291,200,000\n",
      "\tSum:                   746,978,585.42\n",
      "\tMean:                  149,425.602\n",
      "\tMedian:                81,589\n",
      "\tStDev:                 4,117,495.115\n",
      "\tMost common values:    60,000 (261x)\n",
      "\t                       70,000 (123x)\n",
      "\t                       75,000 (101x)\n",
      "\t                       65,000 (98x)\n",
      "\t                       100,000 (96x)\n",
      "\n",
      " 25. \"WAGE_DIF\"\n",
      "\n",
      "\tType of data:          Number\n",
      "\tContains null values:  False\n",
      "\tUnique values:         3018\n",
      "\tSmallest value:        -19,344\n",
      "\tLargest value:         291,106,130\n",
      "\tSum:                   350,983,762.75\n",
      "\tMean:                  70,210.795\n",
      "\tMedian:                5,246\n",
      "\tStDev:                 4,117,166.134\n",
      "\tMost common values:    0 (1139x)\n",
      "\t                       6,482 (65x)\n",
      "\t                       3,429 (30x)\n",
      "\t                       12,093 (25x)\n",
      "\t                       7,501 (12x)\n",
      "\n",
      " 26. \"H-1B_DEPENDENT\"\n",
      "\n",
      "\tType of data:          Boolean\n",
      "\tContains null values:  False\n",
      "\tUnique values:         2\n",
      "\tMost common values:    False (2962x)\n",
      "\t                       True (2037x)\n",
      "\n",
      " 27. \"WILLFUL_VIOLATOR\"\n",
      "\n",
      "\tType of data:          Boolean\n",
      "\tContains null values:  False\n",
      "\tUnique values:         2\n",
      "\tMost common values:    False (4992x)\n",
      "\t                       True (7x)\n",
      "\n",
      " 28. \"WORKSITE_STATE\"\n",
      "\n",
      "\tType of data:          Text\n",
      "\tContains null values:  False\n",
      "\tUnique values:         51\n",
      "\tLongest value:         2 characters\n",
      "\tMost common values:    CA (938x)\n",
      "\t                       TX (513x)\n",
      "\t                       NJ (470x)\n",
      "\t                       NY (399x)\n",
      "\t                       IL (265x)\n",
      "\n",
      " 29. \"WORKSITE_POSTAL_CODE\"\n",
      "\n",
      "\tType of data:          Number\n",
      "\tContains null values:  False\n",
      "\tUnique values:         1677\n",
      "\tSmallest value:        778\n",
      "\tLargest value:         99,503\n",
      "\tSum:                   254,140,136\n",
      "\tMean:                  50,838.195\n",
      "\tMedian:                50,266\n",
      "\tStDev:                 34,237.778\n",
      "\tMost common values:    7,095 (119x)\n",
      "\t                       98,052 (64x)\n",
      "\t                       94,105 (56x)\n",
      "\t                       95,134 (47x)\n",
      "\t                       95,054 (43x)\n",
      "\n",
      " 30. \"CASE_STATUS\"\n",
      "\n",
      "\tType of data:          Text\n",
      "\tContains null values:  False\n",
      "\tUnique values:         4\n",
      "\tLongest value:         18 characters\n",
      "\tMost common values:    CERTIFIED (4046x)\n",
      "\t                       CERTIFIEDWITHDRAWN (750x)\n",
      "\t                       WITHDRAWN (138x)\n",
      "\t                       DENIED (65x)\n",
      "\n",
      "Row count: 4999\n"
     ]
    }
   ],
   "source": [
    "# Take 1% of the whole dataset as a sample to see the basic stats\n",
    "!head -n 5000 h1b.csv | csvstat "
   ]
  },
  {
   "cell_type": "code",
   "execution_count": 10,
   "metadata": {},
   "outputs": [
    {
     "name": "stdout",
     "output_type": "stream",
     "text": [
      "field                   type     sum       min  max   min_length  max_length  mean               stddev\n",
      "CASE_DECISION_DURATION  Integer  16236982  0    2214  1           4           31.35872239668375  127.91022142794715\n"
     ]
    }
   ],
   "source": [
    "# Take one important column form the whole dataset to see its basic stats\n",
    "!xsv select 9 h1b.csv | xsv stats | xsv table "
   ]
  },
  {
   "cell_type": "markdown",
   "metadata": {},
   "source": [
    "### This is our Star-Schema of our dimentional model"
   ]
  },
  {
   "cell_type": "code",
   "execution_count": 9,
   "metadata": {},
   "outputs": [],
   "source": [
    "from IPython.display import Image"
   ]
  },
  {
   "cell_type": "code",
   "execution_count": 101,
   "metadata": {},
   "outputs": [
    {
     "data": {
      "text/html": [
       "<img src=\"https://data-project-picture.s3.amazonaws.com/Inkedfact_dimension_table.jpg\"/>"
      ],
      "text/plain": [
       "<IPython.core.display.Image object>"
      ]
     },
     "execution_count": 101,
     "metadata": {},
     "output_type": "execute_result"
    }
   ],
   "source": [
    "Image(url = \"https://data-project-picture.s3.amazonaws.com/Inkedfact_dimension_table.jpg\")"
   ]
  },
  {
   "cell_type": "markdown",
   "metadata": {},
   "source": [
    "### Create table for our data"
   ]
  },
  {
   "cell_type": "code",
   "execution_count": 5,
   "metadata": {},
   "outputs": [
    {
     "name": "stdout",
     "output_type": "stream",
     "text": [
      " * postgresql://student@/week12\n",
      "Done.\n",
      "Done.\n"
     ]
    },
    {
     "data": {
      "text/plain": [
       "[]"
      ]
     },
     "execution_count": 5,
     "metadata": {},
     "output_type": "execute_result"
    }
   ],
   "source": [
    "%%sql\n",
    "DROP TABLE IF EXISTS H1B;\n",
    "\n",
    "CREATE TABLE H1B (\n",
    "    CASE_SUBMITTED_DAY     INTEGER NOT NULL,\n",
    "    CASE_SUBMITTED_MONTH   INTEGER NOT NULL,\n",
    "    CASE_SUBMITTED_YEAR    INTEGER NOT NULL,\n",
    "    CASE_SUBMITTED_DATE    DATE NOT NULL,\n",
    "    DECISION_DAY           INTEGER NOT NULL,\n",
    "    DECISION_MONTH         INTEGER NOT NULL,\n",
    "    DECISION_YEAR          INTEGER NOT NULL,\n",
    "    DECISION_DATE          DATE NOT NULL,\n",
    "    CASE_DECISION_DURATION INTEGER NOT NULL,\n",
    "    VISA_CLASS             VARCHAR(80) NOT NULL,\n",
    "    EMPLOYER_NAME          VARCHAR(76) NOT NULL,\n",
    "    EMPLOYER_STATE         VARCHAR(2) NOT NULL,\n",
    "    EMPLOYER_COUNTRY       VARCHAR(24) NOT NULL,\n",
    "    SOC_NAME               VARCHAR(33) NOT NULL,\n",
    "    NAICS_CODE             INTEGER,\n",
    "    TOTAL_WORKERS          INTEGER NOT NULL,\n",
    "    FULL_TIME_POSITION     VARCHAR(1),\n",
    "    PREVAILING_WAGE_ANNUAL NUMERIC,\n",
    "    PW_SOURCE              VARCHAR(5),\n",
    "    PW_SOURCE_YEAR         INTEGER,\n",
    "    PW_SOURCE_OTHER        VARCHAR(150) NOT NULL,\n",
    "    WAGE_RATE_OF_PAY_FROM  NUMERIC(10,2),\n",
    "    WAGE_RATE_OF_PAY_TO    NUMERIC(10,2),\n",
    "    WAGE_ANNUAL            NUMERIC(20,2),\n",
    "    WAGE_DIF               NUMERIC,\n",
    "    H1B_DEPENDENT          VARCHAR(1),\n",
    "    WILLFUL_VIOLATOR       VARCHAR(1),\n",
    "    WORKSITE_STATE         VARCHAR(2) NOT NULL,\n",
    "    WORKSITE_POSTAL_CODE   VARCHAR,\n",
    "    CASE_STATUS            VARCHAR(18) CHECK (CASE_STATUS in ('CERTIFIED','CERTIFIEDWITHDRAWN','WITHDRAWN', 'DENIED'))\n",
    ");"
   ]
  },
  {
   "cell_type": "markdown",
   "metadata": {},
   "source": [
    "### Set data into a temporary file so that it is reproducible by others running this code and load into our table"
   ]
  },
  {
   "cell_type": "code",
   "execution_count": 6,
   "metadata": {},
   "outputs": [],
   "source": [
    "!cp h1b.csv /tmp/h1b.csv"
   ]
  },
  {
   "cell_type": "code",
   "execution_count": 7,
   "metadata": {},
   "outputs": [
    {
     "name": "stdout",
     "output_type": "stream",
     "text": [
      " * postgresql://student@/week12\n",
      "517782 rows affected.\n"
     ]
    },
    {
     "data": {
      "text/plain": [
       "[]"
      ]
     },
     "execution_count": 7,
     "metadata": {},
     "output_type": "execute_result"
    }
   ],
   "source": [
    "%%sql\n",
    "COPY H1B FROM '/tmp/h1b.csv'\n",
    "CSV\n",
    "HEADER;"
   ]
  },
  {
   "cell_type": "code",
   "execution_count": 19,
   "metadata": {},
   "outputs": [
    {
     "name": "stdout",
     "output_type": "stream",
     "text": [
      " * postgresql://student@/week12\n",
      "5 rows affected.\n"
     ]
    },
    {
     "data": {
      "text/html": [
       "<table>\n",
       "    <tr>\n",
       "        <th>case_status</th>\n",
       "        <th>case_key</th>\n",
       "        <th>position_key</th>\n",
       "        <th>wage_key</th>\n",
       "        <th>employer_key</th>\n",
       "    </tr>\n",
       "    <tr>\n",
       "        <td>CERTIFIED</td>\n",
       "        <td>13558</td>\n",
       "        <td>107109</td>\n",
       "        <td>226850</td>\n",
       "        <td>50148</td>\n",
       "    </tr>\n",
       "    <tr>\n",
       "        <td>CERTIFIED</td>\n",
       "        <td>14441</td>\n",
       "        <td>104153</td>\n",
       "        <td>111462</td>\n",
       "        <td>64404</td>\n",
       "    </tr>\n",
       "    <tr>\n",
       "        <td>WITHDRAWN</td>\n",
       "        <td>8118</td>\n",
       "        <td>18079</td>\n",
       "        <td>92894</td>\n",
       "        <td>14838</td>\n",
       "    </tr>\n",
       "    <tr>\n",
       "        <td>CERTIFIED</td>\n",
       "        <td>16093</td>\n",
       "        <td>96795</td>\n",
       "        <td>117156</td>\n",
       "        <td>52458</td>\n",
       "    </tr>\n",
       "    <tr>\n",
       "        <td>WITHDRAWN</td>\n",
       "        <td>2479</td>\n",
       "        <td>21986</td>\n",
       "        <td>82362</td>\n",
       "        <td>60875</td>\n",
       "    </tr>\n",
       "</table>"
      ],
      "text/plain": [
       "[('CERTIFIED', 13558, 107109, 226850, 50148),\n",
       " ('CERTIFIED', 14441, 104153, 111462, 64404),\n",
       " ('WITHDRAWN', 8118, 18079, 92894, 14838),\n",
       " ('CERTIFIED', 16093, 96795, 117156, 52458),\n",
       " ('WITHDRAWN', 2479, 21986, 82362, 60875)]"
      ]
     },
     "execution_count": 19,
     "metadata": {},
     "output_type": "execute_result"
    }
   ],
   "source": [
    "%%sql\n",
    "SELECT * FROM H1B\n",
    "LIMIT 5;"
   ]
  },
  {
   "cell_type": "markdown",
   "metadata": {},
   "source": [
    "## Now separating the data into dimensions. For each table we: Select data, create table, insert data to table, and update fact table."
   ]
  },
  {
   "cell_type": "markdown",
   "metadata": {},
   "source": [
    "### 1. Case Dimension "
   ]
  },
  {
   "cell_type": "code",
   "execution_count": 8,
   "metadata": {},
   "outputs": [
    {
     "name": "stdout",
     "output_type": "stream",
     "text": [
      " * postgresql://student@/week12\n",
      "10 rows affected.\n"
     ]
    },
    {
     "data": {
      "text/html": [
       "<table>\n",
       "    <tr>\n",
       "        <th>case_submitted_day</th>\n",
       "        <th>case_submitted_month</th>\n",
       "        <th>case_submitted_year</th>\n",
       "        <th>case_submitted_date</th>\n",
       "        <th>decision_day</th>\n",
       "        <th>decision_month</th>\n",
       "        <th>decision_year</th>\n",
       "        <th>decision_date</th>\n",
       "        <th>case_decision_duration</th>\n",
       "        <th>visa_class</th>\n",
       "    </tr>\n",
       "    <tr>\n",
       "        <td>9</td>\n",
       "        <td>3</td>\n",
       "        <td>2016</td>\n",
       "        <td>2016-03-09</td>\n",
       "        <td>6</td>\n",
       "        <td>12</td>\n",
       "        <td>2016</td>\n",
       "        <td>2016-12-06</td>\n",
       "        <td>272</td>\n",
       "        <td>H1B</td>\n",
       "    </tr>\n",
       "    <tr>\n",
       "        <td>7</td>\n",
       "        <td>3</td>\n",
       "        <td>2016</td>\n",
       "        <td>2016-03-07</td>\n",
       "        <td>29</td>\n",
       "        <td>4</td>\n",
       "        <td>2017</td>\n",
       "        <td>2017-04-29</td>\n",
       "        <td>418</td>\n",
       "        <td>H1B</td>\n",
       "    </tr>\n",
       "    <tr>\n",
       "        <td>1</td>\n",
       "        <td>3</td>\n",
       "        <td>2016</td>\n",
       "        <td>2016-03-01</td>\n",
       "        <td>5</td>\n",
       "        <td>4</td>\n",
       "        <td>2017</td>\n",
       "        <td>2017-04-05</td>\n",
       "        <td>400</td>\n",
       "        <td>H1B</td>\n",
       "    </tr>\n",
       "    <tr>\n",
       "        <td>15</td>\n",
       "        <td>4</td>\n",
       "        <td>2015</td>\n",
       "        <td>2015-04-15</td>\n",
       "        <td>9</td>\n",
       "        <td>1</td>\n",
       "        <td>2017</td>\n",
       "        <td>2017-01-09</td>\n",
       "        <td>635</td>\n",
       "        <td>H1B</td>\n",
       "    </tr>\n",
       "    <tr>\n",
       "        <td>27</td>\n",
       "        <td>4</td>\n",
       "        <td>2015</td>\n",
       "        <td>2015-04-27</td>\n",
       "        <td>18</td>\n",
       "        <td>1</td>\n",
       "        <td>2017</td>\n",
       "        <td>2017-01-18</td>\n",
       "        <td>632</td>\n",
       "        <td>H1B</td>\n",
       "    </tr>\n",
       "    <tr>\n",
       "        <td>3</td>\n",
       "        <td>3</td>\n",
       "        <td>2016</td>\n",
       "        <td>2016-03-03</td>\n",
       "        <td>18</td>\n",
       "        <td>1</td>\n",
       "        <td>2017</td>\n",
       "        <td>2017-01-18</td>\n",
       "        <td>321</td>\n",
       "        <td>H1B</td>\n",
       "    </tr>\n",
       "    <tr>\n",
       "        <td>14</td>\n",
       "        <td>5</td>\n",
       "        <td>2015</td>\n",
       "        <td>2015-05-14</td>\n",
       "        <td>7</td>\n",
       "        <td>11</td>\n",
       "        <td>2016</td>\n",
       "        <td>2016-11-07</td>\n",
       "        <td>543</td>\n",
       "        <td>H1B</td>\n",
       "    </tr>\n",
       "    <tr>\n",
       "        <td>4</td>\n",
       "        <td>10</td>\n",
       "        <td>2016</td>\n",
       "        <td>2016-10-04</td>\n",
       "        <td>20</td>\n",
       "        <td>3</td>\n",
       "        <td>2017</td>\n",
       "        <td>2017-03-20</td>\n",
       "        <td>167</td>\n",
       "        <td>H1B</td>\n",
       "    </tr>\n",
       "    <tr>\n",
       "        <td>6</td>\n",
       "        <td>12</td>\n",
       "        <td>2016</td>\n",
       "        <td>2016-12-06</td>\n",
       "        <td>20</td>\n",
       "        <td>1</td>\n",
       "        <td>2017</td>\n",
       "        <td>2017-01-20</td>\n",
       "        <td>45</td>\n",
       "        <td>H1B</td>\n",
       "    </tr>\n",
       "    <tr>\n",
       "        <td>30</td>\n",
       "        <td>6</td>\n",
       "        <td>2016</td>\n",
       "        <td>2016-06-30</td>\n",
       "        <td>30</td>\n",
       "        <td>12</td>\n",
       "        <td>2016</td>\n",
       "        <td>2016-12-30</td>\n",
       "        <td>183</td>\n",
       "        <td>H1B</td>\n",
       "    </tr>\n",
       "</table>"
      ],
      "text/plain": [
       "[(9, 3, 2016, datetime.date(2016, 3, 9), 6, 12, 2016, datetime.date(2016, 12, 6), 272, 'H1B'),\n",
       " (7, 3, 2016, datetime.date(2016, 3, 7), 29, 4, 2017, datetime.date(2017, 4, 29), 418, 'H1B'),\n",
       " (1, 3, 2016, datetime.date(2016, 3, 1), 5, 4, 2017, datetime.date(2017, 4, 5), 400, 'H1B'),\n",
       " (15, 4, 2015, datetime.date(2015, 4, 15), 9, 1, 2017, datetime.date(2017, 1, 9), 635, 'H1B'),\n",
       " (27, 4, 2015, datetime.date(2015, 4, 27), 18, 1, 2017, datetime.date(2017, 1, 18), 632, 'H1B'),\n",
       " (3, 3, 2016, datetime.date(2016, 3, 3), 18, 1, 2017, datetime.date(2017, 1, 18), 321, 'H1B'),\n",
       " (14, 5, 2015, datetime.date(2015, 5, 14), 7, 11, 2016, datetime.date(2016, 11, 7), 543, 'H1B'),\n",
       " (4, 10, 2016, datetime.date(2016, 10, 4), 20, 3, 2017, datetime.date(2017, 3, 20), 167, 'H1B'),\n",
       " (6, 12, 2016, datetime.date(2016, 12, 6), 20, 1, 2017, datetime.date(2017, 1, 20), 45, 'H1B'),\n",
       " (30, 6, 2016, datetime.date(2016, 6, 30), 30, 12, 2016, datetime.date(2016, 12, 30), 183, 'H1B')]"
      ]
     },
     "execution_count": 8,
     "metadata": {},
     "output_type": "execute_result"
    }
   ],
   "source": [
    "%%sql\n",
    "select DISTINCT case_submitted_day, case_submitted_month, case_submitted_year, case_submitted_date, decision_day, decision_month, decision_year, decision_date, case_decision_duration, visa_class \n",
    "from H1B\n",
    "limit 10;"
   ]
  },
  {
   "cell_type": "code",
   "execution_count": 9,
   "metadata": {},
   "outputs": [
    {
     "name": "stdout",
     "output_type": "stream",
     "text": [
      " * postgresql://student@/week12\n",
      "Done.\n",
      "Done.\n"
     ]
    },
    {
     "data": {
      "text/plain": [
       "[]"
      ]
     },
     "execution_count": 9,
     "metadata": {},
     "output_type": "execute_result"
    }
   ],
   "source": [
    "%%sql\n",
    "DROP TABLE IF EXISTS CASES;\n",
    "\n",
    "CREATE TABLE CASES (\n",
    "    KEY                    SERIAL PRIMARY KEY,\n",
    "    CASE_SUBMITTED_DAY     INTEGER NOT NULL,\n",
    "    CASE_SUBMITTED_MONTH   INTEGER NOT NULL,\n",
    "    CASE_SUBMITTED_YEAR    INTEGER NOT NULL,\n",
    "    CASE_SUBMITTED_DATE    DATE NOT NULL,\n",
    "    DECISION_DAY           INTEGER NOT NULL,\n",
    "    DECISION_MONTH         INTEGER NOT NULL,\n",
    "    DECISION_YEAR          INTEGER NOT NULL,\n",
    "    DECISION_DATE          DATE NOT NULL,\n",
    "    CASE_DECISION_DURATION INTEGER NOT NULL,\n",
    "    VISA_CLASS             VARCHAR(80) NOT NULL\n",
    ");"
   ]
  },
  {
   "cell_type": "code",
   "execution_count": 10,
   "metadata": {},
   "outputs": [
    {
     "name": "stdout",
     "output_type": "stream",
     "text": [
      " * postgresql://student@/week12\n",
      "23961 rows affected.\n"
     ]
    },
    {
     "data": {
      "text/plain": [
       "[]"
      ]
     },
     "execution_count": 10,
     "metadata": {},
     "output_type": "execute_result"
    }
   ],
   "source": [
    "%%sql\n",
    "INSERT INTO CASES (case_submitted_day, case_submitted_month, case_submitted_year, case_submitted_date, decision_day, decision_month, decision_year, decision_date, case_decision_duration, visa_class)\n",
    "SELECT DISTINCT case_submitted_day, case_submitted_month, case_submitted_year, case_submitted_date, decision_day, decision_month, decision_year, decision_date, case_decision_duration, visa_class  \n",
    "FROM H1B;"
   ]
  },
  {
   "cell_type": "code",
   "execution_count": 11,
   "metadata": {},
   "outputs": [
    {
     "name": "stdout",
     "output_type": "stream",
     "text": [
      " * postgresql://student@/week12\n",
      "10 rows affected.\n"
     ]
    },
    {
     "data": {
      "text/html": [
       "<table>\n",
       "    <tr>\n",
       "        <th>key</th>\n",
       "        <th>case_submitted_day</th>\n",
       "        <th>case_submitted_month</th>\n",
       "        <th>case_submitted_year</th>\n",
       "        <th>case_submitted_date</th>\n",
       "        <th>decision_day</th>\n",
       "        <th>decision_month</th>\n",
       "        <th>decision_year</th>\n",
       "        <th>decision_date</th>\n",
       "        <th>case_decision_duration</th>\n",
       "        <th>visa_class</th>\n",
       "    </tr>\n",
       "    <tr>\n",
       "        <td>1</td>\n",
       "        <td>9</td>\n",
       "        <td>3</td>\n",
       "        <td>2016</td>\n",
       "        <td>2016-03-09</td>\n",
       "        <td>6</td>\n",
       "        <td>12</td>\n",
       "        <td>2016</td>\n",
       "        <td>2016-12-06</td>\n",
       "        <td>272</td>\n",
       "        <td>H1B</td>\n",
       "    </tr>\n",
       "    <tr>\n",
       "        <td>2</td>\n",
       "        <td>7</td>\n",
       "        <td>3</td>\n",
       "        <td>2016</td>\n",
       "        <td>2016-03-07</td>\n",
       "        <td>29</td>\n",
       "        <td>4</td>\n",
       "        <td>2017</td>\n",
       "        <td>2017-04-29</td>\n",
       "        <td>418</td>\n",
       "        <td>H1B</td>\n",
       "    </tr>\n",
       "    <tr>\n",
       "        <td>3</td>\n",
       "        <td>1</td>\n",
       "        <td>3</td>\n",
       "        <td>2016</td>\n",
       "        <td>2016-03-01</td>\n",
       "        <td>5</td>\n",
       "        <td>4</td>\n",
       "        <td>2017</td>\n",
       "        <td>2017-04-05</td>\n",
       "        <td>400</td>\n",
       "        <td>H1B</td>\n",
       "    </tr>\n",
       "    <tr>\n",
       "        <td>4</td>\n",
       "        <td>15</td>\n",
       "        <td>4</td>\n",
       "        <td>2015</td>\n",
       "        <td>2015-04-15</td>\n",
       "        <td>9</td>\n",
       "        <td>1</td>\n",
       "        <td>2017</td>\n",
       "        <td>2017-01-09</td>\n",
       "        <td>635</td>\n",
       "        <td>H1B</td>\n",
       "    </tr>\n",
       "    <tr>\n",
       "        <td>5</td>\n",
       "        <td>27</td>\n",
       "        <td>4</td>\n",
       "        <td>2015</td>\n",
       "        <td>2015-04-27</td>\n",
       "        <td>18</td>\n",
       "        <td>1</td>\n",
       "        <td>2017</td>\n",
       "        <td>2017-01-18</td>\n",
       "        <td>632</td>\n",
       "        <td>H1B</td>\n",
       "    </tr>\n",
       "    <tr>\n",
       "        <td>6</td>\n",
       "        <td>3</td>\n",
       "        <td>3</td>\n",
       "        <td>2016</td>\n",
       "        <td>2016-03-03</td>\n",
       "        <td>18</td>\n",
       "        <td>1</td>\n",
       "        <td>2017</td>\n",
       "        <td>2017-01-18</td>\n",
       "        <td>321</td>\n",
       "        <td>H1B</td>\n",
       "    </tr>\n",
       "    <tr>\n",
       "        <td>7</td>\n",
       "        <td>14</td>\n",
       "        <td>5</td>\n",
       "        <td>2015</td>\n",
       "        <td>2015-05-14</td>\n",
       "        <td>7</td>\n",
       "        <td>11</td>\n",
       "        <td>2016</td>\n",
       "        <td>2016-11-07</td>\n",
       "        <td>543</td>\n",
       "        <td>H1B</td>\n",
       "    </tr>\n",
       "    <tr>\n",
       "        <td>8</td>\n",
       "        <td>4</td>\n",
       "        <td>10</td>\n",
       "        <td>2016</td>\n",
       "        <td>2016-10-04</td>\n",
       "        <td>20</td>\n",
       "        <td>3</td>\n",
       "        <td>2017</td>\n",
       "        <td>2017-03-20</td>\n",
       "        <td>167</td>\n",
       "        <td>H1B</td>\n",
       "    </tr>\n",
       "    <tr>\n",
       "        <td>9</td>\n",
       "        <td>6</td>\n",
       "        <td>12</td>\n",
       "        <td>2016</td>\n",
       "        <td>2016-12-06</td>\n",
       "        <td>20</td>\n",
       "        <td>1</td>\n",
       "        <td>2017</td>\n",
       "        <td>2017-01-20</td>\n",
       "        <td>45</td>\n",
       "        <td>H1B</td>\n",
       "    </tr>\n",
       "    <tr>\n",
       "        <td>10</td>\n",
       "        <td>30</td>\n",
       "        <td>6</td>\n",
       "        <td>2016</td>\n",
       "        <td>2016-06-30</td>\n",
       "        <td>30</td>\n",
       "        <td>12</td>\n",
       "        <td>2016</td>\n",
       "        <td>2016-12-30</td>\n",
       "        <td>183</td>\n",
       "        <td>H1B</td>\n",
       "    </tr>\n",
       "</table>"
      ],
      "text/plain": [
       "[(1, 9, 3, 2016, datetime.date(2016, 3, 9), 6, 12, 2016, datetime.date(2016, 12, 6), 272, 'H1B'),\n",
       " (2, 7, 3, 2016, datetime.date(2016, 3, 7), 29, 4, 2017, datetime.date(2017, 4, 29), 418, 'H1B'),\n",
       " (3, 1, 3, 2016, datetime.date(2016, 3, 1), 5, 4, 2017, datetime.date(2017, 4, 5), 400, 'H1B'),\n",
       " (4, 15, 4, 2015, datetime.date(2015, 4, 15), 9, 1, 2017, datetime.date(2017, 1, 9), 635, 'H1B'),\n",
       " (5, 27, 4, 2015, datetime.date(2015, 4, 27), 18, 1, 2017, datetime.date(2017, 1, 18), 632, 'H1B'),\n",
       " (6, 3, 3, 2016, datetime.date(2016, 3, 3), 18, 1, 2017, datetime.date(2017, 1, 18), 321, 'H1B'),\n",
       " (7, 14, 5, 2015, datetime.date(2015, 5, 14), 7, 11, 2016, datetime.date(2016, 11, 7), 543, 'H1B'),\n",
       " (8, 4, 10, 2016, datetime.date(2016, 10, 4), 20, 3, 2017, datetime.date(2017, 3, 20), 167, 'H1B'),\n",
       " (9, 6, 12, 2016, datetime.date(2016, 12, 6), 20, 1, 2017, datetime.date(2017, 1, 20), 45, 'H1B'),\n",
       " (10, 30, 6, 2016, datetime.date(2016, 6, 30), 30, 12, 2016, datetime.date(2016, 12, 30), 183, 'H1B')]"
      ]
     },
     "execution_count": 11,
     "metadata": {},
     "output_type": "execute_result"
    }
   ],
   "source": [
    "%%sql\n",
    "SELECT * FROM CASES\n",
    "LIMIT 10;"
   ]
  },
  {
   "cell_type": "code",
   "execution_count": 12,
   "metadata": {},
   "outputs": [
    {
     "name": "stdout",
     "output_type": "stream",
     "text": [
      " * postgresql://student@/week12\n",
      "Done.\n"
     ]
    },
    {
     "data": {
      "text/plain": [
       "[]"
      ]
     },
     "execution_count": 12,
     "metadata": {},
     "output_type": "execute_result"
    }
   ],
   "source": [
    "%%sql\n",
    "ALTER TABLE H1B\n",
    "ADD COLUMN CASE_KEY INTEGER,\n",
    "ADD CONSTRAINT FK_CASE_KEY\n",
    "    FOREIGN KEY (CASE_KEY)\n",
    "    REFERENCES CASES(KEY);"
   ]
  },
  {
   "cell_type": "code",
   "execution_count": 13,
   "metadata": {},
   "outputs": [
    {
     "name": "stdout",
     "output_type": "stream",
     "text": [
      " * postgresql://student@/week12\n",
      "517782 rows affected.\n"
     ]
    },
    {
     "data": {
      "text/plain": [
       "[]"
      ]
     },
     "execution_count": 13,
     "metadata": {},
     "output_type": "execute_result"
    }
   ],
   "source": [
    "%%sql\n",
    "UPDATE H1B\n",
    "SET CASE_KEY = CASES.KEY\n",
    "FROM CASES\n",
    "WHERE H1B.case_submitted_day = CASES.case_submitted_day AND H1B.case_submitted_month = CASES.case_submitted_month \n",
    "AND H1B.case_submitted_year = CASES.case_submitted_year AND H1B.case_submitted_date = CASES.case_submitted_date\n",
    "AND H1B.decision_day = CASES.decision_day AND H1B.decision_month = CASES.decision_month\n",
    "AND H1B.decision_year = CASES.decision_year AND H1B.decision_date = CASES.decision_date\n",
    "AND H1B.case_decision_duration = CASES.case_decision_duration AND H1B.visa_class = CASES.visa_class;"
   ]
  },
  {
   "cell_type": "markdown",
   "metadata": {},
   "source": [
    "### 2. Position Dimension"
   ]
  },
  {
   "cell_type": "code",
   "execution_count": 14,
   "metadata": {},
   "outputs": [
    {
     "name": "stdout",
     "output_type": "stream",
     "text": [
      " * postgresql://student@/week12\n",
      "10 rows affected.\n"
     ]
    },
    {
     "data": {
      "text/html": [
       "<table>\n",
       "    <tr>\n",
       "        <th>soc_name</th>\n",
       "        <th>naics_code</th>\n",
       "        <th>full_time_position</th>\n",
       "        <th>worksite_state</th>\n",
       "        <th>worksite_postal_code</th>\n",
       "    </tr>\n",
       "    <tr>\n",
       "        <td>ACCOUNTANTS</td>\n",
       "        <td>541511</td>\n",
       "        <td>Y</td>\n",
       "        <td>OH</td>\n",
       "        <td>45209</td>\n",
       "    </tr>\n",
       "    <tr>\n",
       "        <td>ACCOUNTANTS</td>\n",
       "        <td>541511</td>\n",
       "        <td>Y</td>\n",
       "        <td>IL</td>\n",
       "        <td>60606</td>\n",
       "    </tr>\n",
       "    <tr>\n",
       "        <td>ACCOUNTANTS</td>\n",
       "        <td>511210</td>\n",
       "        <td>Y</td>\n",
       "        <td>CA</td>\n",
       "        <td>94105</td>\n",
       "    </tr>\n",
       "    <tr>\n",
       "        <td>ACCOUNTANTS</td>\n",
       "        <td>541511</td>\n",
       "        <td>Y</td>\n",
       "        <td>MN</td>\n",
       "        <td>55343</td>\n",
       "    </tr>\n",
       "    <tr>\n",
       "        <td>ACCOUNTANTS</td>\n",
       "        <td>541511</td>\n",
       "        <td>Y</td>\n",
       "        <td>IA</td>\n",
       "        <td>50392</td>\n",
       "    </tr>\n",
       "    <tr>\n",
       "        <td>ACCOUNTANTS</td>\n",
       "        <td>325211</td>\n",
       "        <td>Y</td>\n",
       "        <td>MA</td>\n",
       "        <td>1532</td>\n",
       "    </tr>\n",
       "    <tr>\n",
       "        <td>ACCOUNTANTS</td>\n",
       "        <td>541613</td>\n",
       "        <td>Y</td>\n",
       "        <td>NY</td>\n",
       "        <td>11209</td>\n",
       "    </tr>\n",
       "    <tr>\n",
       "        <td>ACCOUNTANTS</td>\n",
       "        <td>541612</td>\n",
       "        <td>Y</td>\n",
       "        <td>GA</td>\n",
       "        <td>30022</td>\n",
       "    </tr>\n",
       "    <tr>\n",
       "        <td>ACCOUNTANTS</td>\n",
       "        <td>621111</td>\n",
       "        <td>Y</td>\n",
       "        <td>IN</td>\n",
       "        <td>46123</td>\n",
       "    </tr>\n",
       "    <tr>\n",
       "        <td>ACCOUNTANTS</td>\n",
       "        <td>522320</td>\n",
       "        <td>Y</td>\n",
       "        <td>GA</td>\n",
       "        <td>30004</td>\n",
       "    </tr>\n",
       "</table>"
      ],
      "text/plain": [
       "[('ACCOUNTANTS', 541511, 'Y', 'OH', '45209'),\n",
       " ('ACCOUNTANTS', 541511, 'Y', 'IL', '60606'),\n",
       " ('ACCOUNTANTS', 511210, 'Y', 'CA', '94105'),\n",
       " ('ACCOUNTANTS', 541511, 'Y', 'MN', '55343'),\n",
       " ('ACCOUNTANTS', 541511, 'Y', 'IA', '50392'),\n",
       " ('ACCOUNTANTS', 325211, 'Y', 'MA', '1532'),\n",
       " ('ACCOUNTANTS', 541613, 'Y', 'NY', '11209'),\n",
       " ('ACCOUNTANTS', 541612, 'Y', 'GA', '30022'),\n",
       " ('ACCOUNTANTS', 621111, 'Y', 'IN', '46123'),\n",
       " ('ACCOUNTANTS', 522320, 'Y', 'GA', '30004')]"
      ]
     },
     "execution_count": 14,
     "metadata": {},
     "output_type": "execute_result"
    }
   ],
   "source": [
    "%%sql\n",
    "SELECT DISTINCT SOC_NAME, NAICS_CODE, FULL_TIME_POSITION, WORKSITE_STATE, WORKSITE_POSTAL_CODE\n",
    "FROM H1B\n",
    "ORDER BY SOC_NAME\n",
    "LIMIT 10;"
   ]
  },
  {
   "cell_type": "code",
   "execution_count": 15,
   "metadata": {},
   "outputs": [
    {
     "name": "stdout",
     "output_type": "stream",
     "text": [
      " * postgresql://student@/week12\n",
      "Done.\n",
      "Done.\n"
     ]
    },
    {
     "data": {
      "text/plain": [
       "[]"
      ]
     },
     "execution_count": 15,
     "metadata": {},
     "output_type": "execute_result"
    }
   ],
   "source": [
    "%%sql\n",
    "DROP TABLE IF EXISTS POSITION CASCADE;\n",
    "\n",
    "CREATE TABLE POSITION (\n",
    "    KEY                    SERIAL PRIMARY KEY,\n",
    "    SOC_NAME               VARCHAR(33) NOT NULL,\n",
    "    NAICS_CODE             INTEGER,\n",
    "    FULL_TIME_POSITION     VARCHAR(1),\n",
    "    WORKSITE_STATE         VARCHAR(2) NOT NULL,\n",
    "    WORKSITE_POSTAL_CODE   VARCHAR\n",
    ");"
   ]
  },
  {
   "cell_type": "code",
   "execution_count": 16,
   "metadata": {},
   "outputs": [
    {
     "name": "stdout",
     "output_type": "stream",
     "text": [
      " * postgresql://student@/week12\n",
      "137581 rows affected.\n"
     ]
    },
    {
     "data": {
      "text/plain": [
       "[]"
      ]
     },
     "execution_count": 16,
     "metadata": {},
     "output_type": "execute_result"
    }
   ],
   "source": [
    "%%sql\n",
    "INSERT INTO POSITION (SOC_NAME, NAICS_CODE, FULL_TIME_POSITION, WORKSITE_STATE, WORKSITE_POSTAL_CODE)\n",
    "SELECT DISTINCT SOC_NAME, NAICS_CODE, FULL_TIME_POSITION, WORKSITE_STATE, WORKSITE_POSTAL_CODE\n",
    "FROM H1B;"
   ]
  },
  {
   "cell_type": "code",
   "execution_count": 17,
   "metadata": {},
   "outputs": [
    {
     "name": "stdout",
     "output_type": "stream",
     "text": [
      " * postgresql://student@/week12\n",
      "Done.\n"
     ]
    },
    {
     "data": {
      "text/plain": [
       "[]"
      ]
     },
     "execution_count": 17,
     "metadata": {},
     "output_type": "execute_result"
    }
   ],
   "source": [
    "%%sql\n",
    "ALTER TABLE H1B\n",
    "ADD COLUMN POSITION_KEY INTEGER,\n",
    "ADD CONSTRAINT FK_POSITION_KEY\n",
    "    FOREIGN KEY (POSITION_KEY)\n",
    "    REFERENCES POSITION (KEY);"
   ]
  },
  {
   "cell_type": "code",
   "execution_count": 26,
   "metadata": {},
   "outputs": [
    {
     "name": "stdout",
     "output_type": "stream",
     "text": [
      " * postgresql://student@/week12\n",
      "3 rows affected.\n"
     ]
    },
    {
     "data": {
      "text/html": [
       "<table>\n",
       "    <tr>\n",
       "        <th>case_submitted_day</th>\n",
       "        <th>case_submitted_month</th>\n",
       "        <th>case_submitted_year</th>\n",
       "        <th>case_submitted_date</th>\n",
       "        <th>decision_day</th>\n",
       "        <th>decision_month</th>\n",
       "        <th>decision_year</th>\n",
       "        <th>decision_date</th>\n",
       "        <th>case_decision_duration</th>\n",
       "        <th>visa_class</th>\n",
       "        <th>employer_name</th>\n",
       "        <th>employer_state</th>\n",
       "        <th>employer_country</th>\n",
       "        <th>soc_name</th>\n",
       "        <th>naics_code</th>\n",
       "        <th>total_workers</th>\n",
       "        <th>full_time_position</th>\n",
       "        <th>prevailing_wage_annual</th>\n",
       "        <th>pw_source</th>\n",
       "        <th>pw_source_year</th>\n",
       "        <th>pw_source_other</th>\n",
       "        <th>wage_rate_of_pay_from</th>\n",
       "        <th>wage_rate_of_pay_to</th>\n",
       "        <th>wage_annual</th>\n",
       "        <th>wage_dif</th>\n",
       "        <th>h1b_dependent</th>\n",
       "        <th>willful_violator</th>\n",
       "        <th>worksite_state</th>\n",
       "        <th>worksite_postal_code</th>\n",
       "        <th>case_status</th>\n",
       "        <th>case_key</th>\n",
       "        <th>position_key</th>\n",
       "    </tr>\n",
       "    <tr>\n",
       "        <td>27</td>\n",
       "        <td>9</td>\n",
       "        <td>2016</td>\n",
       "        <td>2016-09-27</td>\n",
       "        <td>3</td>\n",
       "        <td>10</td>\n",
       "        <td>2016</td>\n",
       "        <td>2016-10-03</td>\n",
       "        <td>6</td>\n",
       "        <td>H1B</td>\n",
       "        <td>STAPLES INC</td>\n",
       "        <td>MA</td>\n",
       "        <td>UNITED STATES OF AMERICA</td>\n",
       "        <td>EDUCATION</td>\n",
       "        <td>453210</td>\n",
       "        <td>1</td>\n",
       "        <td>Y</td>\n",
       "        <td>120224</td>\n",
       "        <td>OES</td>\n",
       "        <td>2016</td>\n",
       "        <td>OFLC ONLINE DATA CENTER</td>\n",
       "        <td>125000.00</td>\n",
       "        <td>0.00</td>\n",
       "        <td>125000.00</td>\n",
       "        <td>4776</td>\n",
       "        <td>N</td>\n",
       "        <td>N</td>\n",
       "        <td>MA</td>\n",
       "        <td>1702</td>\n",
       "        <td>CERTIFIED</td>\n",
       "        <td>16700</td>\n",
       "        <td>None</td>\n",
       "    </tr>\n",
       "    <tr>\n",
       "        <td>27</td>\n",
       "        <td>9</td>\n",
       "        <td>2016</td>\n",
       "        <td>2016-09-27</td>\n",
       "        <td>3</td>\n",
       "        <td>10</td>\n",
       "        <td>2016</td>\n",
       "        <td>2016-10-03</td>\n",
       "        <td>6</td>\n",
       "        <td>H1B</td>\n",
       "        <td>WIPRO LIMITED</td>\n",
       "        <td>NJ</td>\n",
       "        <td>UNITED STATES OF AMERICA</td>\n",
       "        <td>MANAGERS</td>\n",
       "        <td>541511</td>\n",
       "        <td>1</td>\n",
       "        <td>Y</td>\n",
       "        <td>60000</td>\n",
       "        <td>OES</td>\n",
       "        <td>2016</td>\n",
       "        <td>OFLC ONLINE DATA CENTER</td>\n",
       "        <td>60000.00</td>\n",
       "        <td>0.00</td>\n",
       "        <td>60000.00</td>\n",
       "        <td>0</td>\n",
       "        <td>Y</td>\n",
       "        <td>N</td>\n",
       "        <td>MO</td>\n",
       "        <td>63043</td>\n",
       "        <td>CERTIFIED</td>\n",
       "        <td>16700</td>\n",
       "        <td>None</td>\n",
       "    </tr>\n",
       "    <tr>\n",
       "        <td>3</td>\n",
       "        <td>10</td>\n",
       "        <td>2016</td>\n",
       "        <td>2016-10-03</td>\n",
       "        <td>5</td>\n",
       "        <td>10</td>\n",
       "        <td>2016</td>\n",
       "        <td>2016-10-05</td>\n",
       "        <td>2</td>\n",
       "        <td>H1B</td>\n",
       "        <td>GLOBAL BMU LLC</td>\n",
       "        <td>NY</td>\n",
       "        <td>UNITED STATES OF AMERICA</td>\n",
       "        <td>MARKETING</td>\n",
       "        <td>2381</td>\n",
       "        <td>1</td>\n",
       "        <td>Y</td>\n",
       "        <td>150009.6</td>\n",
       "        <td>SCA</td>\n",
       "        <td>2014</td>\n",
       "        <td>NONE</td>\n",
       "        <td>64.31</td>\n",
       "        <td>0.00</td>\n",
       "        <td>133764.80</td>\n",
       "        <td>-16244.8</td>\n",
       "        <td>N</td>\n",
       "        <td>N</td>\n",
       "        <td>NY</td>\n",
       "        <td>10011</td>\n",
       "        <td>DENIED</td>\n",
       "        <td>3258</td>\n",
       "        <td>None</td>\n",
       "    </tr>\n",
       "</table>"
      ],
      "text/plain": [
       "[(27, 9, 2016, datetime.date(2016, 9, 27), 3, 10, 2016, datetime.date(2016, 10, 3), 6, 'H1B', 'STAPLES INC', 'MA', 'UNITED STATES OF AMERICA', 'EDUCATION', 453210, 1, 'Y', Decimal('120224'), 'OES', 2016, 'OFLC ONLINE DATA CENTER', Decimal('125000.00'), Decimal('0.00'), Decimal('125000.00'), Decimal('4776'), 'N', 'N', 'MA', '1702', 'CERTIFIED', 16700, None),\n",
       " (27, 9, 2016, datetime.date(2016, 9, 27), 3, 10, 2016, datetime.date(2016, 10, 3), 6, 'H1B', 'WIPRO LIMITED', 'NJ', 'UNITED STATES OF AMERICA', 'MANAGERS', 541511, 1, 'Y', Decimal('60000'), 'OES', 2016, 'OFLC ONLINE DATA CENTER', Decimal('60000.00'), Decimal('0.00'), Decimal('60000.00'), Decimal('0'), 'Y', 'N', 'MO', '63043', 'CERTIFIED', 16700, None),\n",
       " (3, 10, 2016, datetime.date(2016, 10, 3), 5, 10, 2016, datetime.date(2016, 10, 5), 2, 'H1B', 'GLOBAL BMU LLC', 'NY', 'UNITED STATES OF AMERICA', 'MARKETING', 2381, 1, 'Y', Decimal('150009.6'), 'SCA', 2014, 'NONE', Decimal('64.31'), Decimal('0.00'), Decimal('133764.80'), Decimal('-16244.8'), 'N', 'N', 'NY', '10011', 'DENIED', 3258, None)]"
      ]
     },
     "execution_count": 26,
     "metadata": {},
     "output_type": "execute_result"
    }
   ],
   "source": [
    "%%sql \n",
    "SELECT * FROM H1B\n",
    "LIMIT 3;"
   ]
  },
  {
   "cell_type": "code",
   "execution_count": 18,
   "metadata": {},
   "outputs": [
    {
     "name": "stdout",
     "output_type": "stream",
     "text": [
      " * postgresql://student@/week12\n",
      "517780 rows affected.\n"
     ]
    },
    {
     "data": {
      "text/plain": [
       "[]"
      ]
     },
     "execution_count": 18,
     "metadata": {},
     "output_type": "execute_result"
    }
   ],
   "source": [
    "%%sql\n",
    "UPDATE H1B\n",
    "SET POSITION_KEY = POSITION.KEY\n",
    "FROM POSITION\n",
    "WHERE H1B.SOC_NAME = POSITION.SOC_NAME AND H1B.NAICS_CODE = POSITION.NAICS_CODE\n",
    "AND H1B.full_time_position = POSITION.FULL_TIME_POSITION\n",
    "AND H1B.worksite_state = POSITION.WORKSITE_STATE AND H1B.worksite_postal_code = POSITION.WORKSITE_POSTAL_CODE;"
   ]
  },
  {
   "cell_type": "markdown",
   "metadata": {},
   "source": [
    "### 3. Wage Dimension"
   ]
  },
  {
   "cell_type": "code",
   "execution_count": 19,
   "metadata": {},
   "outputs": [
    {
     "name": "stdout",
     "output_type": "stream",
     "text": [
      " * postgresql://student@/week12\n",
      "5 rows affected.\n"
     ]
    },
    {
     "data": {
      "text/html": [
       "<table>\n",
       "    <tr>\n",
       "        <th>prevailing_wage_annual</th>\n",
       "        <th>pw_source</th>\n",
       "        <th>pw_source_year</th>\n",
       "        <th>pw_source_other</th>\n",
       "        <th>wage_rate_of_pay_from</th>\n",
       "        <th>wage_rate_of_pay_to</th>\n",
       "        <th>wage_annual</th>\n",
       "        <th>wage_dif</th>\n",
       "    </tr>\n",
       "    <tr>\n",
       "        <td>297785280</td>\n",
       "        <td>OES</td>\n",
       "        <td>2016</td>\n",
       "        <td>OFLC ONLINE DATA CENTER</td>\n",
       "        <td>155000.00</td>\n",
       "        <td>165000.00</td>\n",
       "        <td>155000.00</td>\n",
       "        <td>-297630280</td>\n",
       "    </tr>\n",
       "    <tr>\n",
       "        <td>205892960</td>\n",
       "        <td>OES</td>\n",
       "        <td>2016</td>\n",
       "        <td>OFLC ONLINE DATA CENTER</td>\n",
       "        <td>98987.00</td>\n",
       "        <td>111000.00</td>\n",
       "        <td>98987.00</td>\n",
       "        <td>-205793973</td>\n",
       "    </tr>\n",
       "    <tr>\n",
       "        <td>195813280</td>\n",
       "        <td>OES</td>\n",
       "        <td>2016</td>\n",
       "        <td>OFLC ONLINE DATA CENTER</td>\n",
       "        <td>106000.00</td>\n",
       "        <td>0.00</td>\n",
       "        <td>106000.00</td>\n",
       "        <td>-195707280</td>\n",
       "    </tr>\n",
       "    <tr>\n",
       "        <td>181319840</td>\n",
       "        <td>OES</td>\n",
       "        <td>2016</td>\n",
       "        <td>OFLC ONLINE DATA CENTER</td>\n",
       "        <td>96187.00</td>\n",
       "        <td>0.00</td>\n",
       "        <td>96187.00</td>\n",
       "        <td>-181223653</td>\n",
       "    </tr>\n",
       "    <tr>\n",
       "        <td>172839680</td>\n",
       "        <td>OES</td>\n",
       "        <td>2016</td>\n",
       "        <td>OFLC ONLINE DATA CENTER</td>\n",
       "        <td>85000.00</td>\n",
       "        <td>0.00</td>\n",
       "        <td>85000.00</td>\n",
       "        <td>-172754680</td>\n",
       "    </tr>\n",
       "</table>"
      ],
      "text/plain": [
       "[(Decimal('297785280'), 'OES', 2016, 'OFLC ONLINE DATA CENTER', Decimal('155000.00'), Decimal('165000.00'), Decimal('155000.00'), Decimal('-297630280')),\n",
       " (Decimal('205892960'), 'OES', 2016, 'OFLC ONLINE DATA CENTER', Decimal('98987.00'), Decimal('111000.00'), Decimal('98987.00'), Decimal('-205793973')),\n",
       " (Decimal('195813280'), 'OES', 2016, 'OFLC ONLINE DATA CENTER', Decimal('106000.00'), Decimal('0.00'), Decimal('106000.00'), Decimal('-195707280')),\n",
       " (Decimal('181319840'), 'OES', 2016, 'OFLC ONLINE DATA CENTER', Decimal('96187.00'), Decimal('0.00'), Decimal('96187.00'), Decimal('-181223653')),\n",
       " (Decimal('172839680'), 'OES', 2016, 'OFLC ONLINE DATA CENTER', Decimal('85000.00'), Decimal('0.00'), Decimal('85000.00'), Decimal('-172754680'))]"
      ]
     },
     "execution_count": 19,
     "metadata": {},
     "output_type": "execute_result"
    }
   ],
   "source": [
    "%%sql\n",
    "SELECT DISTINCT PREVAILING_WAGE_ANNUAL, PW_SOURCE, PW_SOURCE_YEAR, PW_SOURCE_OTHER, WAGE_RATE_OF_PAY_FROM, WAGE_RATE_OF_PAY_TO, WAGE_ANNUAL, WAGE_DIF  \n",
    "FROM H1B\n",
    "ORDER BY WAGE_DIF\n",
    "LIMIT 5;"
   ]
  },
  {
   "cell_type": "code",
   "execution_count": 20,
   "metadata": {},
   "outputs": [
    {
     "name": "stdout",
     "output_type": "stream",
     "text": [
      " * postgresql://student@/week12\n",
      "Done.\n",
      "Done.\n"
     ]
    },
    {
     "data": {
      "text/plain": [
       "[]"
      ]
     },
     "execution_count": 20,
     "metadata": {},
     "output_type": "execute_result"
    }
   ],
   "source": [
    "%%sql\n",
    "DROP TABLE IF EXISTS WAGE;\n",
    "\n",
    "CREATE TABLE WAGE (\n",
    "    KEY                          SERIAL PRIMARY KEY,\n",
    "    PREVAILING_WAGE_ANNUAL       NUMERIC,\n",
    "    PW_SOURCE                    VARCHAR(5),\n",
    "    PW_SOURCE_YEAR               INTEGER,\n",
    "    PW_SOURCE_OTHER              VARCHAR(150) NOT NULL,\n",
    "    WAGE_RATE_OF_PAY_FROM        NUMERIC(10,2),\n",
    "    WAGE_RATE_OF_PAY_TO          NUMERIC(10,2),\n",
    "    WAGE_ANNUAL                  NUMERIC(20,2),\n",
    "    WAGE_DIF                     NUMERIC\n",
    ");"
   ]
  },
  {
   "cell_type": "code",
   "execution_count": 21,
   "metadata": {},
   "outputs": [
    {
     "name": "stdout",
     "output_type": "stream",
     "text": [
      " * postgresql://student@/week12\n",
      "232908 rows affected.\n"
     ]
    },
    {
     "data": {
      "text/plain": [
       "[]"
      ]
     },
     "execution_count": 21,
     "metadata": {},
     "output_type": "execute_result"
    }
   ],
   "source": [
    "%%sql\n",
    "INSERT INTO WAGE (PREVAILING_WAGE_ANNUAL, PW_SOURCE, PW_SOURCE_YEAR, PW_SOURCE_OTHER, WAGE_RATE_OF_PAY_FROM, WAGE_RATE_OF_PAY_TO, WAGE_ANNUAL, WAGE_DIF)\n",
    "SELECT DISTINCT PREVAILING_WAGE_ANNUAL, PW_SOURCE, PW_SOURCE_YEAR, PW_SOURCE_OTHER, WAGE_RATE_OF_PAY_FROM, WAGE_RATE_OF_PAY_TO, WAGE_ANNUAL, WAGE_DIF\n",
    "FROM H1B;"
   ]
  },
  {
   "cell_type": "code",
   "execution_count": 32,
   "metadata": {},
   "outputs": [
    {
     "name": "stdout",
     "output_type": "stream",
     "text": [
      " * postgresql://student@/week12\n",
      "3 rows affected.\n"
     ]
    },
    {
     "data": {
      "text/html": [
       "<table>\n",
       "    <tr>\n",
       "        <th>key</th>\n",
       "        <th>prevailing_wage_annual</th>\n",
       "        <th>pw_source</th>\n",
       "        <th>pw_source_year</th>\n",
       "        <th>pw_source_other</th>\n",
       "        <th>wage_rate_of_pay_from</th>\n",
       "        <th>wage_rate_of_pay_to</th>\n",
       "        <th>wage_annual</th>\n",
       "        <th>wage_dif</th>\n",
       "    </tr>\n",
       "    <tr>\n",
       "        <td>232908</td>\n",
       "        <td>297785280</td>\n",
       "        <td>OES</td>\n",
       "        <td>2016</td>\n",
       "        <td>OFLC ONLINE DATA CENTER</td>\n",
       "        <td>155000.00</td>\n",
       "        <td>165000.00</td>\n",
       "        <td>155000.00</td>\n",
       "        <td>-297630280</td>\n",
       "    </tr>\n",
       "    <tr>\n",
       "        <td>232907</td>\n",
       "        <td>205892960</td>\n",
       "        <td>OES</td>\n",
       "        <td>2016</td>\n",
       "        <td>OFLC ONLINE DATA CENTER</td>\n",
       "        <td>98987.00</td>\n",
       "        <td>111000.00</td>\n",
       "        <td>98987.00</td>\n",
       "        <td>-205793973</td>\n",
       "    </tr>\n",
       "    <tr>\n",
       "        <td>232906</td>\n",
       "        <td>195813280</td>\n",
       "        <td>OES</td>\n",
       "        <td>2016</td>\n",
       "        <td>OFLC ONLINE DATA CENTER</td>\n",
       "        <td>106000.00</td>\n",
       "        <td>0.00</td>\n",
       "        <td>106000.00</td>\n",
       "        <td>-195707280</td>\n",
       "    </tr>\n",
       "</table>"
      ],
      "text/plain": [
       "[(232908, Decimal('297785280'), 'OES', 2016, 'OFLC ONLINE DATA CENTER', Decimal('155000.00'), Decimal('165000.00'), Decimal('155000.00'), Decimal('-297630280')),\n",
       " (232907, Decimal('205892960'), 'OES', 2016, 'OFLC ONLINE DATA CENTER', Decimal('98987.00'), Decimal('111000.00'), Decimal('98987.00'), Decimal('-205793973')),\n",
       " (232906, Decimal('195813280'), 'OES', 2016, 'OFLC ONLINE DATA CENTER', Decimal('106000.00'), Decimal('0.00'), Decimal('106000.00'), Decimal('-195707280'))]"
      ]
     },
     "execution_count": 32,
     "metadata": {},
     "output_type": "execute_result"
    }
   ],
   "source": [
    "%%sql\n",
    "SELECT * FROM WAGE\n",
    "ORDER BY WAGE_DIF\n",
    "LIMIT 3;"
   ]
  },
  {
   "cell_type": "code",
   "execution_count": 22,
   "metadata": {},
   "outputs": [
    {
     "name": "stdout",
     "output_type": "stream",
     "text": [
      " * postgresql://student@/week12\n",
      "Done.\n"
     ]
    },
    {
     "data": {
      "text/plain": [
       "[]"
      ]
     },
     "execution_count": 22,
     "metadata": {},
     "output_type": "execute_result"
    }
   ],
   "source": [
    "%%sql\n",
    "ALTER TABLE H1B\n",
    "ADD COLUMN WAGE_KEY INTEGER,\n",
    "ADD CONSTRAINT FK_WAGE_KEY\n",
    "    FOREIGN KEY (WAGE_KEY)\n",
    "    REFERENCES WAGE(KEY);"
   ]
  },
  {
   "cell_type": "code",
   "execution_count": 23,
   "metadata": {},
   "outputs": [
    {
     "name": "stdout",
     "output_type": "stream",
     "text": [
      " * postgresql://student@/week12\n",
      "517782 rows affected.\n"
     ]
    },
    {
     "data": {
      "text/plain": [
       "[]"
      ]
     },
     "execution_count": 23,
     "metadata": {},
     "output_type": "execute_result"
    }
   ],
   "source": [
    "%%sql\n",
    "UPDATE H1B\n",
    "SET WAGE_KEY = WAGE.KEY\n",
    "FROM WAGE\n",
    "WHERE H1B.prevailing_wage_annual = WAGE.prevailing_wage_annual AND H1B.pw_source = WAGE.pw_source AND\n",
    "H1B.PW_SOURCE_YEAR = WAGE.PW_SOURCE_YEAR AND H1B.PW_SOURCE_OTHER = WAGE.PW_SOURCE_OTHER AND\n",
    "H1B.WAGE_RATE_OF_PAY_FROM = WAGE.WAGE_RATE_OF_PAY_FROM AND H1B.WAGE_RATE_OF_PAY_TO = WAGE.WAGE_RATE_OF_PAY_TO\n",
    "AND H1B.wage_annual = WAGE.wage_annual AND H1B.wage_dif = WAGE.wage_dif\n",
    ";"
   ]
  },
  {
   "cell_type": "markdown",
   "metadata": {},
   "source": [
    "### 4. Employer dimension"
   ]
  },
  {
   "cell_type": "code",
   "execution_count": 24,
   "metadata": {},
   "outputs": [
    {
     "name": "stdout",
     "output_type": "stream",
     "text": [
      " * postgresql://student@/week12\n",
      "Done.\n",
      "Done.\n"
     ]
    },
    {
     "data": {
      "text/plain": [
       "[]"
      ]
     },
     "execution_count": 24,
     "metadata": {},
     "output_type": "execute_result"
    }
   ],
   "source": [
    "%%sql\n",
    "DROP TABLE IF EXISTS EMPLOYER;\n",
    "\n",
    "CREATE TABLE EMPLOYER(\n",
    "    KEY SERIAL PRIMARY KEY,\n",
    "    EMPLOYER_STATE VARCHAR(2), \n",
    "    EMPLOYER_NAME VARCHAR, \n",
    "    EMPLOYER_COUNTRY VARCHAR, \n",
    "    TOTAL_WORKERS INTEGER,\n",
    "    H1B_DEPENDENT VARCHAR(1), \n",
    "    WILLFUL_VIOLATOR VARCHAR(1)\n",
    ");"
   ]
  },
  {
   "cell_type": "code",
   "execution_count": 25,
   "metadata": {},
   "outputs": [
    {
     "name": "stdout",
     "output_type": "stream",
     "text": [
      " * postgresql://student@/week12\n",
      "64563 rows affected.\n"
     ]
    },
    {
     "data": {
      "text/plain": [
       "[]"
      ]
     },
     "execution_count": 25,
     "metadata": {},
     "output_type": "execute_result"
    }
   ],
   "source": [
    "%%sql\n",
    "INSERT INTO EMPLOYER (EMPLOYER_STATE, EMPLOYER_NAME, EMPLOYER_COUNTRY, TOTAL_WORKERS, H1B_DEPENDENT, WILLFUL_VIOLATOR)\n",
    "SELECT DISTINCT EMPLOYER_STATE, EMPLOYER_NAME, EMPLOYER_COUNTRY, TOTAL_WORKERS, H1B_DEPENDENT, WILLFUL_VIOLATOR\n",
    "FROM H1B;"
   ]
  },
  {
   "cell_type": "code",
   "execution_count": 37,
   "metadata": {},
   "outputs": [
    {
     "name": "stdout",
     "output_type": "stream",
     "text": [
      " * postgresql://student@/week12\n",
      "3 rows affected.\n"
     ]
    },
    {
     "data": {
      "text/html": [
       "<table>\n",
       "    <tr>\n",
       "        <th>key</th>\n",
       "        <th>employer_state</th>\n",
       "        <th>employer_name</th>\n",
       "        <th>employer_country</th>\n",
       "        <th>total_workers</th>\n",
       "        <th>h1b_dependent</th>\n",
       "        <th>willful_violator</th>\n",
       "    </tr>\n",
       "    <tr>\n",
       "        <td>1</td>\n",
       "        <td>AK</td>\n",
       "        <td>ABS BILLING SERVICES INC</td>\n",
       "        <td>UNITED STATES OF AMERICA</td>\n",
       "        <td>1</td>\n",
       "        <td>N</td>\n",
       "        <td>N</td>\n",
       "    </tr>\n",
       "    <tr>\n",
       "        <td>2</td>\n",
       "        <td>AK</td>\n",
       "        <td>ALASKA NATIVE TRIBAL HEALTH CONSORTIUM</td>\n",
       "        <td>UNITED STATES OF AMERICA</td>\n",
       "        <td>1</td>\n",
       "        <td>N</td>\n",
       "        <td>N</td>\n",
       "    </tr>\n",
       "    <tr>\n",
       "        <td>3</td>\n",
       "        <td>AK</td>\n",
       "        <td>ALTMAN ROGERS and CO</td>\n",
       "        <td>UNITED STATES OF AMERICA</td>\n",
       "        <td>1</td>\n",
       "        <td>N</td>\n",
       "        <td>N</td>\n",
       "    </tr>\n",
       "</table>"
      ],
      "text/plain": [
       "[(1, 'AK', 'ABS BILLING SERVICES INC', 'UNITED STATES OF AMERICA', 1, 'N', 'N'),\n",
       " (2, 'AK', 'ALASKA NATIVE TRIBAL HEALTH CONSORTIUM', 'UNITED STATES OF AMERICA', 1, 'N', 'N'),\n",
       " (3, 'AK', 'ALTMAN ROGERS and CO', 'UNITED STATES OF AMERICA', 1, 'N', 'N')]"
      ]
     },
     "execution_count": 37,
     "metadata": {},
     "output_type": "execute_result"
    }
   ],
   "source": [
    "%%sql\n",
    "SELECT * FROM EMPLOYER\n",
    "LIMIT 3;"
   ]
  },
  {
   "cell_type": "code",
   "execution_count": 26,
   "metadata": {},
   "outputs": [
    {
     "name": "stdout",
     "output_type": "stream",
     "text": [
      " * postgresql://student@/week12\n",
      "Done.\n"
     ]
    },
    {
     "data": {
      "text/plain": [
       "[]"
      ]
     },
     "execution_count": 26,
     "metadata": {},
     "output_type": "execute_result"
    }
   ],
   "source": [
    "%%sql\n",
    "ALTER TABLE H1B\n",
    "ADD COLUMN EMPLOYER_KEY INTEGER,\n",
    "ADD CONSTRAINT FK_EMPLOYER_KEY\n",
    "    FOREIGN KEY (EMPLOYER_KEY)\n",
    "    REFERENCES EMPLOYER (KEY);"
   ]
  },
  {
   "cell_type": "code",
   "execution_count": 27,
   "metadata": {},
   "outputs": [
    {
     "name": "stdout",
     "output_type": "stream",
     "text": [
      " * postgresql://student@/week12\n",
      "517782 rows affected.\n"
     ]
    },
    {
     "data": {
      "text/plain": [
       "[]"
      ]
     },
     "execution_count": 27,
     "metadata": {},
     "output_type": "execute_result"
    }
   ],
   "source": [
    "%%sql\n",
    "UPDATE H1B\n",
    "SET EMPLOYER_KEY = EMPLOYER.KEY\n",
    "FROM EMPLOYER\n",
    "WHERE H1B.employer_state = EMPLOYER.employer_state AND H1B.employer_name =  EMPLOYER.employer_name AND\n",
    "H1B.employer_country =  EMPLOYER.employer_country AND H1B.TOTAL_WORKERS = EMPLOYER.TOTAL_WORKERS AND H1B.h1b_dependent = EMPLOYER.h1b_dependent AND\n",
    "H1B.willful_violator = EMPLOYER.willful_violator;"
   ]
  },
  {
   "cell_type": "markdown",
   "metadata": {},
   "source": [
    "### We need to drop these columns now from the initial H1B table and just use the keys to reference.  The H1B table is now our fact table."
   ]
  },
  {
   "cell_type": "code",
   "execution_count": 28,
   "metadata": {},
   "outputs": [
    {
     "name": "stdout",
     "output_type": "stream",
     "text": [
      " * postgresql://student@/week12\n",
      "Done.\n"
     ]
    },
    {
     "data": {
      "text/plain": [
       "[]"
      ]
     },
     "execution_count": 28,
     "metadata": {},
     "output_type": "execute_result"
    }
   ],
   "source": [
    "%%sql\n",
    "ALTER TABLE H1B\n",
    "DROP COLUMN case_submitted_day, \n",
    "DROP COLUMN case_submitted_month,\n",
    "DROP COLUMN case_submitted_year, \n",
    "DROP COLUMN case_submitted_date,\n",
    "DROP COLUMN decision_day,\n",
    "DROP COLUMN decision_month,\n",
    "DROP COLUMN decision_year,\n",
    "DROP COLUMN decision_date, \n",
    "DROP COLUMN case_decision_duration, \n",
    "DROP COLUMN visa_class, \n",
    "DROP COLUMN employer_name, \n",
    "DROP COLUMN employer_state, \n",
    "DROP COLUMN employer_country, \n",
    "DROP COLUMN soc_name, \n",
    "DROP COLUMN naics_code, \n",
    "DROP COLUMN total_workers, \n",
    "DROP COLUMN full_time_position, \n",
    "DROP COLUMN prevailing_wage_annual, \n",
    "DROP COLUMN pw_source, \n",
    "DROP COLUMN pw_source_year, \n",
    "DROP COLUMN pw_source_other, \n",
    "DROP COLUMN wage_rate_of_pay_from, \n",
    "DROP COLUMN wage_rate_of_pay_to, \n",
    "DROP COLUMN wage_annual,\n",
    "DROP COLUMN wage_dif, \n",
    "DROP COLUMN h1b_dependent, \n",
    "DROP COLUMN willful_violator, \n",
    "DROP COLUMN worksite_state, \n",
    "DROP COLUMN worksite_postal_code;"
   ]
  },
  {
   "cell_type": "code",
   "execution_count": 42,
   "metadata": {},
   "outputs": [
    {
     "name": "stdout",
     "output_type": "stream",
     "text": [
      " * postgresql://student@/week12\n",
      "5 rows affected.\n"
     ]
    },
    {
     "data": {
      "text/html": [
       "<table>\n",
       "    <tr>\n",
       "        <th>case_status</th>\n",
       "        <th>case_key</th>\n",
       "        <th>position_key</th>\n",
       "        <th>wage_key</th>\n",
       "        <th>employer_key</th>\n",
       "    </tr>\n",
       "    <tr>\n",
       "        <td>WITHDRAWN</td>\n",
       "        <td>22465</td>\n",
       "        <td>28144</td>\n",
       "        <td>107213</td>\n",
       "        <td>14838</td>\n",
       "    </tr>\n",
       "    <tr>\n",
       "        <td>WITHDRAWN</td>\n",
       "        <td>11895</td>\n",
       "        <td>112901</td>\n",
       "        <td>64688</td>\n",
       "        <td>63571</td>\n",
       "    </tr>\n",
       "    <tr>\n",
       "        <td>CERTIFIED</td>\n",
       "        <td>15827</td>\n",
       "        <td>80122</td>\n",
       "        <td>94243</td>\n",
       "        <td>60571</td>\n",
       "    </tr>\n",
       "    <tr>\n",
       "        <td>DENIED</td>\n",
       "        <td>10642</td>\n",
       "        <td>73796</td>\n",
       "        <td>23562</td>\n",
       "        <td>50074</td>\n",
       "    </tr>\n",
       "    <tr>\n",
       "        <td>CERTIFIED</td>\n",
       "        <td>11651</td>\n",
       "        <td>28057</td>\n",
       "        <td>89827</td>\n",
       "        <td>29625</td>\n",
       "    </tr>\n",
       "</table>"
      ],
      "text/plain": [
       "[('WITHDRAWN', 22465, 28144, 107213, 14838),\n",
       " ('WITHDRAWN', 11895, 112901, 64688, 63571),\n",
       " ('CERTIFIED', 15827, 80122, 94243, 60571),\n",
       " ('DENIED', 10642, 73796, 23562, 50074),\n",
       " ('CERTIFIED', 11651, 28057, 89827, 29625)]"
      ]
     },
     "execution_count": 42,
     "metadata": {},
     "output_type": "execute_result"
    }
   ],
   "source": [
    "%%sql\n",
    "SELECT * FROM H1B\n",
    "LIMIT 5;"
   ]
  },
  {
   "cell_type": "markdown",
   "metadata": {},
   "source": [
    "## Business Questions"
   ]
  },
  {
   "cell_type": "markdown",
   "metadata": {},
   "source": [
    "## Q1 - How is status of a case affected by other data elements and can they identify a pattern in certification or denial?"
   ]
  },
  {
   "cell_type": "markdown",
   "metadata": {},
   "source": [
    "### 1.1 Finding the pattern about whether a case will be certified or denied in terms of Willful_Violator status"
   ]
  },
  {
   "cell_type": "code",
   "execution_count": 77,
   "metadata": {},
   "outputs": [
    {
     "name": "stdout",
     "output_type": "stream",
     "text": [
      " * postgresql://student@/week12\n",
      "8 rows affected.\n"
     ]
    },
    {
     "data": {
      "text/html": [
       "<table>\n",
       "    <tr>\n",
       "        <th>willful_violator</th>\n",
       "        <th>case_status</th>\n",
       "        <th>count</th>\n",
       "    </tr>\n",
       "    <tr>\n",
       "        <td>N</td>\n",
       "        <td>CERTIFIED</td>\n",
       "        <td>459922</td>\n",
       "    </tr>\n",
       "    <tr>\n",
       "        <td>N</td>\n",
       "        <td>CERTIFIEDWITHDRAWN</td>\n",
       "        <td>35471</td>\n",
       "    </tr>\n",
       "    <tr>\n",
       "        <td>N</td>\n",
       "        <td>DENIED</td>\n",
       "        <td>6277</td>\n",
       "    </tr>\n",
       "    <tr>\n",
       "        <td>N</td>\n",
       "        <td>WITHDRAWN</td>\n",
       "        <td>15689</td>\n",
       "    </tr>\n",
       "    <tr>\n",
       "        <td>Y</td>\n",
       "        <td>CERTIFIED</td>\n",
       "        <td>277</td>\n",
       "    </tr>\n",
       "    <tr>\n",
       "        <td>Y</td>\n",
       "        <td>CERTIFIEDWITHDRAWN</td>\n",
       "        <td>112</td>\n",
       "    </tr>\n",
       "    <tr>\n",
       "        <td>Y</td>\n",
       "        <td>DENIED</td>\n",
       "        <td>15</td>\n",
       "    </tr>\n",
       "    <tr>\n",
       "        <td>Y</td>\n",
       "        <td>WITHDRAWN</td>\n",
       "        <td>19</td>\n",
       "    </tr>\n",
       "</table>"
      ],
      "text/plain": [
       "[('N', 'CERTIFIED', 459922),\n",
       " ('N', 'CERTIFIEDWITHDRAWN', 35471),\n",
       " ('N', 'DENIED', 6277),\n",
       " ('N', 'WITHDRAWN', 15689),\n",
       " ('Y', 'CERTIFIED', 277),\n",
       " ('Y', 'CERTIFIEDWITHDRAWN', 112),\n",
       " ('Y', 'DENIED', 15),\n",
       " ('Y', 'WITHDRAWN', 19)]"
      ]
     },
     "execution_count": 77,
     "metadata": {},
     "output_type": "execute_result"
    }
   ],
   "source": [
    "%%sql \n",
    "(SELECT employer.willful_violator, H1B.case_status, count(case_status)\n",
    "FROM H1B\n",
    "JOIN EMPLOYER\n",
    "    ON H1B.EMPLOYER_KEY = EMPLOYER.KEY\n",
    "WHERE willful_violator IN ('Y')\n",
    "GROUP BY willful_violator, case_status)\n",
    "UNION\n",
    "(SELECT employer.willful_violator, H1B.case_status, count(case_status)\n",
    "FROM H1B\n",
    "JOIN EMPLOYER\n",
    "    ON H1B.EMPLOYER_KEY = EMPLOYER.KEY\n",
    "WHERE willful_violator IN ('N')\n",
    "GROUP BY willful_violator, case_status)\n",
    "ORDER BY 1 ASC, 2 ASC;"
   ]
  },
  {
   "cell_type": "code",
   "execution_count": 38,
   "metadata": {},
   "outputs": [],
   "source": [
    "from IPython.display import Image"
   ]
  },
  {
   "cell_type": "code",
   "execution_count": 102,
   "metadata": {},
   "outputs": [
    {
     "data": {
      "text/html": [
       "<img src=\"https://data-project-picture.s3.amazonaws.com/Comp_WV_N.png\"/>"
      ],
      "text/plain": [
       "<IPython.core.display.Image object>"
      ]
     },
     "execution_count": 102,
     "metadata": {},
     "output_type": "execute_result"
    }
   ],
   "source": [
    "Image(url = \"https://data-project-picture.s3.amazonaws.com/Comp_WV_N.png\")"
   ]
  },
  {
   "cell_type": "code",
   "execution_count": 103,
   "metadata": {},
   "outputs": [
    {
     "data": {
      "text/html": [
       "<img src=\"https://data-project-picture.s3.amazonaws.com/Comp_WV_Y.png\"/>"
      ],
      "text/plain": [
       "<IPython.core.display.Image object>"
      ]
     },
     "execution_count": 103,
     "metadata": {},
     "output_type": "execute_result"
    }
   ],
   "source": [
    "Image(url = \"https://data-project-picture.s3.amazonaws.com/Comp_WV_Y.png\")"
   ]
  },
  {
   "cell_type": "markdown",
   "metadata": {},
   "source": [
    "### We can see from the above charts with the following conclusions:\n",
    "* When employers have not been identified as previous violators, 88.9% of cases are certified.  When employers have been identified as previous violators, only 65.5% of cases are certified.\n",
    "* 6.8% were certified withdrawn vs 26.5% and 1.2% were denied vs 3.5%\n"
   ]
  },
  {
   "cell_type": "markdown",
   "metadata": {},
   "source": [
    "### 1.2 Finding the pattern about whether a case will be certified or denied in terms of different months"
   ]
  },
  {
   "cell_type": "markdown",
   "metadata": {},
   "source": [
    "Total number of cases in different status:"
   ]
  },
  {
   "cell_type": "code",
   "execution_count": 78,
   "metadata": {},
   "outputs": [
    {
     "name": "stdout",
     "output_type": "stream",
     "text": [
      " * postgresql://student@/week12\n",
      "4 rows affected.\n"
     ]
    },
    {
     "data": {
      "text/html": [
       "<table>\n",
       "    <tr>\n",
       "        <th>case_status</th>\n",
       "        <th>number_of_cases</th>\n",
       "    </tr>\n",
       "    <tr>\n",
       "        <td>WITHDRAWN</td>\n",
       "        <td>15708</td>\n",
       "    </tr>\n",
       "    <tr>\n",
       "        <td>DENIED</td>\n",
       "        <td>6292</td>\n",
       "    </tr>\n",
       "    <tr>\n",
       "        <td>CERTIFIEDWITHDRAWN</td>\n",
       "        <td>35583</td>\n",
       "    </tr>\n",
       "    <tr>\n",
       "        <td>CERTIFIED</td>\n",
       "        <td>460199</td>\n",
       "    </tr>\n",
       "</table>"
      ],
      "text/plain": [
       "[('WITHDRAWN', 15708),\n",
       " ('DENIED', 6292),\n",
       " ('CERTIFIEDWITHDRAWN', 35583),\n",
       " ('CERTIFIED', 460199)]"
      ]
     },
     "execution_count": 78,
     "metadata": {},
     "output_type": "execute_result"
    }
   ],
   "source": [
    "%%sql\n",
    "SELECT h1b.case_status, count(case_status) AS number_of_cases\n",
    "FROM H1B\n",
    "GROUP BY CASE_STATUS;"
   ]
  },
  {
   "cell_type": "markdown",
   "metadata": {},
   "source": [
    "Certified cases in different months:"
   ]
  },
  {
   "cell_type": "code",
   "execution_count": 36,
   "metadata": {},
   "outputs": [
    {
     "name": "stdout",
     "output_type": "stream",
     "text": [
      " * postgresql://student@/week12\n",
      "22 rows affected.\n"
     ]
    },
    {
     "data": {
      "text/html": [
       "<table>\n",
       "    <tr>\n",
       "        <th>case_status</th>\n",
       "        <th>case_submitted_month</th>\n",
       "        <th>count</th>\n",
       "    </tr>\n",
       "    <tr>\n",
       "        <td>CERTIFIED</td>\n",
       "        <td>1</td>\n",
       "        <td>34956</td>\n",
       "    </tr>\n",
       "    <tr>\n",
       "        <td>CERTIFIED</td>\n",
       "        <td>2</td>\n",
       "        <td>73419</td>\n",
       "    </tr>\n",
       "    <tr>\n",
       "        <td>CERTIFIED</td>\n",
       "        <td>3</td>\n",
       "        <td>190447</td>\n",
       "    </tr>\n",
       "    <tr>\n",
       "        <td>CERTIFIED</td>\n",
       "        <td>4</td>\n",
       "        <td>29161</td>\n",
       "    </tr>\n",
       "    <tr>\n",
       "        <td>CERTIFIED</td>\n",
       "        <td>5</td>\n",
       "        <td>29517</td>\n",
       "    </tr>\n",
       "    <tr>\n",
       "        <td>CERTIFIED</td>\n",
       "        <td>6</td>\n",
       "        <td>24047</td>\n",
       "    </tr>\n",
       "    <tr>\n",
       "        <td>CERTIFIED</td>\n",
       "        <td>9</td>\n",
       "        <td>4496</td>\n",
       "    </tr>\n",
       "    <tr>\n",
       "        <td>CERTIFIED</td>\n",
       "        <td>10</td>\n",
       "        <td>24003</td>\n",
       "    </tr>\n",
       "    <tr>\n",
       "        <td>CERTIFIED</td>\n",
       "        <td>11</td>\n",
       "        <td>24441</td>\n",
       "    </tr>\n",
       "    <tr>\n",
       "        <td>CERTIFIED</td>\n",
       "        <td>12</td>\n",
       "        <td>25712</td>\n",
       "    </tr>\n",
       "    <tr>\n",
       "        <td>CERTIFIEDWITHDRAWN</td>\n",
       "        <td>1</td>\n",
       "        <td>2173</td>\n",
       "    </tr>\n",
       "    <tr>\n",
       "        <td>CERTIFIEDWITHDRAWN</td>\n",
       "        <td>2</td>\n",
       "        <td>4624</td>\n",
       "    </tr>\n",
       "    <tr>\n",
       "        <td>CERTIFIEDWITHDRAWN</td>\n",
       "        <td>3</td>\n",
       "        <td>13698</td>\n",
       "    </tr>\n",
       "    <tr>\n",
       "        <td>CERTIFIEDWITHDRAWN</td>\n",
       "        <td>4</td>\n",
       "        <td>2233</td>\n",
       "    </tr>\n",
       "    <tr>\n",
       "        <td>CERTIFIEDWITHDRAWN</td>\n",
       "        <td>5</td>\n",
       "        <td>1897</td>\n",
       "    </tr>\n",
       "    <tr>\n",
       "        <td>CERTIFIEDWITHDRAWN</td>\n",
       "        <td>6</td>\n",
       "        <td>2113</td>\n",
       "    </tr>\n",
       "    <tr>\n",
       "        <td>CERTIFIEDWITHDRAWN</td>\n",
       "        <td>7</td>\n",
       "        <td>1303</td>\n",
       "    </tr>\n",
       "    <tr>\n",
       "        <td>CERTIFIEDWITHDRAWN</td>\n",
       "        <td>8</td>\n",
       "        <td>1384</td>\n",
       "    </tr>\n",
       "    <tr>\n",
       "        <td>CERTIFIEDWITHDRAWN</td>\n",
       "        <td>9</td>\n",
       "        <td>1492</td>\n",
       "    </tr>\n",
       "    <tr>\n",
       "        <td>CERTIFIEDWITHDRAWN</td>\n",
       "        <td>10</td>\n",
       "        <td>1600</td>\n",
       "    </tr>\n",
       "    <tr>\n",
       "        <td>CERTIFIEDWITHDRAWN</td>\n",
       "        <td>11</td>\n",
       "        <td>1526</td>\n",
       "    </tr>\n",
       "    <tr>\n",
       "        <td>CERTIFIEDWITHDRAWN</td>\n",
       "        <td>12</td>\n",
       "        <td>1540</td>\n",
       "    </tr>\n",
       "</table>"
      ],
      "text/plain": [
       "[('CERTIFIED', 1, 34956),\n",
       " ('CERTIFIED', 2, 73419),\n",
       " ('CERTIFIED', 3, 190447),\n",
       " ('CERTIFIED', 4, 29161),\n",
       " ('CERTIFIED', 5, 29517),\n",
       " ('CERTIFIED', 6, 24047),\n",
       " ('CERTIFIED', 9, 4496),\n",
       " ('CERTIFIED', 10, 24003),\n",
       " ('CERTIFIED', 11, 24441),\n",
       " ('CERTIFIED', 12, 25712),\n",
       " ('CERTIFIEDWITHDRAWN', 1, 2173),\n",
       " ('CERTIFIEDWITHDRAWN', 2, 4624),\n",
       " ('CERTIFIEDWITHDRAWN', 3, 13698),\n",
       " ('CERTIFIEDWITHDRAWN', 4, 2233),\n",
       " ('CERTIFIEDWITHDRAWN', 5, 1897),\n",
       " ('CERTIFIEDWITHDRAWN', 6, 2113),\n",
       " ('CERTIFIEDWITHDRAWN', 7, 1303),\n",
       " ('CERTIFIEDWITHDRAWN', 8, 1384),\n",
       " ('CERTIFIEDWITHDRAWN', 9, 1492),\n",
       " ('CERTIFIEDWITHDRAWN', 10, 1600),\n",
       " ('CERTIFIEDWITHDRAWN', 11, 1526),\n",
       " ('CERTIFIEDWITHDRAWN', 12, 1540)]"
      ]
     },
     "execution_count": 36,
     "metadata": {},
     "output_type": "execute_result"
    }
   ],
   "source": [
    "%%sql\n",
    "SELECT H1B.case_status, CASES.CASE_SUBMITTED_MONTH, count(*)\n",
    "FROM H1B \n",
    "JOIN CASES ON H1B.CASE_KEY = CASES.KEY\n",
    "WHERE case_status IN ('CERTIFIED', 'CERTIFIEDWITHDRAWN')\n",
    "GROUP BY case_status, CASE_SUBMITTED_MONTH\n",
    "ORDER BY 1 ASC, 2 ASC;"
   ]
  },
  {
   "cell_type": "code",
   "execution_count": 104,
   "metadata": {},
   "outputs": [
    {
     "data": {
      "text/html": [
       "<img src=\"https://data-project-picture.s3.amazonaws.com/total_cases_per_month.png\"/>"
      ],
      "text/plain": [
       "<IPython.core.display.Image object>"
      ]
     },
     "execution_count": 104,
     "metadata": {},
     "output_type": "execute_result"
    }
   ],
   "source": [
    "Image(url = \"https://data-project-picture.s3.amazonaws.com/total_cases_per_month.png\")"
   ]
  },
  {
   "cell_type": "markdown",
   "metadata": {},
   "source": [
    "### There is a pattern of monthly application\n",
    "* It is apparent that March has the most applicants of H1B, whether the case is certified or certifies-withdrawn. It is probably because deadline of applying H1B visa is in April. And most applicants choose to submit their application in February and March."
   ]
  },
  {
   "cell_type": "markdown",
   "metadata": {},
   "source": [
    "### 1.3 The difference between annual wage and minimum wage affects the case status"
   ]
  },
  {
   "cell_type": "code",
   "execution_count": 17,
   "metadata": {},
   "outputs": [
    {
     "name": "stdout",
     "output_type": "stream",
     "text": [
      " * postgresql://student@/week12\n",
      "3 rows affected.\n"
     ]
    },
    {
     "data": {
      "text/html": [
       "<table>\n",
       "    <tr>\n",
       "        <th>case_status</th>\n",
       "        <th>count</th>\n",
       "    </tr>\n",
       "    <tr>\n",
       "        <td>CERTIFIED</td>\n",
       "        <td>2</td>\n",
       "    </tr>\n",
       "    <tr>\n",
       "        <td>DENIED</td>\n",
       "        <td>1488</td>\n",
       "    </tr>\n",
       "    <tr>\n",
       "        <td>WITHDRAWN</td>\n",
       "        <td>309</td>\n",
       "    </tr>\n",
       "</table>"
      ],
      "text/plain": [
       "[('CERTIFIED', 2), ('DENIED', 1488), ('WITHDRAWN', 309)]"
      ]
     },
     "execution_count": 17,
     "metadata": {},
     "output_type": "execute_result"
    }
   ],
   "source": [
    "%%sql\n",
    "SELECT CASE_STATUS, count(case_key)\n",
    "FROM H1B\n",
    "JOIN WAGE ON H1B.WAGE_KEY = WAGE.KEY\n",
    "WHERE WAGE.WAGE_DIF < 0\n",
    "GROUP BY CASE_STATUS;"
   ]
  },
  {
   "cell_type": "code",
   "execution_count": 39,
   "metadata": {},
   "outputs": [
    {
     "data": {
      "text/html": [
       "<img src=\"https://data-project-picture.s3.amazonaws.com/lower_wage_status.png\"/>"
      ],
      "text/plain": [
       "<IPython.core.display.Image object>"
      ]
     },
     "execution_count": 39,
     "metadata": {},
     "output_type": "execute_result"
    }
   ],
   "source": [
    "Image(url = 'https://data-project-picture.s3.amazonaws.com/lower_wage_status.png')"
   ]
  },
  {
   "cell_type": "markdown",
   "metadata": {},
   "source": [
    "* When the annual wage is lower than the minimum wage required by the government, the case is mostly denied or withdrawn."
   ]
  },
  {
   "cell_type": "markdown",
   "metadata": {},
   "source": [
    "## Q2 - Which companies request the most foreign (H1B) employees and how have the requests changed by year for these companies? Which industries do these companies work in?"
   ]
  },
  {
   "cell_type": "markdown",
   "metadata": {},
   "source": [
    "### 2.1 Finding top 5 number of total workers requested by the companies"
   ]
  },
  {
   "cell_type": "code",
   "execution_count": 33,
   "metadata": {},
   "outputs": [
    {
     "name": "stdout",
     "output_type": "stream",
     "text": [
      " * postgresql://student@/week12\n",
      "5 rows affected.\n"
     ]
    },
    {
     "data": {
      "text/html": [
       "<table>\n",
       "    <tr>\n",
       "        <th>employer_name</th>\n",
       "        <th>workers_requested</th>\n",
       "    </tr>\n",
       "    <tr>\n",
       "        <td>DELOITTE CONSULTING LLP</td>\n",
       "        <td>82266</td>\n",
       "    </tr>\n",
       "    <tr>\n",
       "        <td>COGNIZANT TECHNOLOGY SOLUTIONS US CORPORATION</td>\n",
       "        <td>46771</td>\n",
       "    </tr>\n",
       "    <tr>\n",
       "        <td>HCL AMERICA INC</td>\n",
       "        <td>28772</td>\n",
       "    </tr>\n",
       "    <tr>\n",
       "        <td>APPLE INC</td>\n",
       "        <td>26460</td>\n",
       "    </tr>\n",
       "    <tr>\n",
       "        <td>MPHASIS CORPORATION</td>\n",
       "        <td>19595</td>\n",
       "    </tr>\n",
       "</table>"
      ],
      "text/plain": [
       "[('DELOITTE CONSULTING LLP', 82266),\n",
       " ('COGNIZANT TECHNOLOGY SOLUTIONS US CORPORATION', 46771),\n",
       " ('HCL AMERICA INC', 28772),\n",
       " ('APPLE INC', 26460),\n",
       " ('MPHASIS CORPORATION', 19595)]"
      ]
     },
     "execution_count": 33,
     "metadata": {},
     "output_type": "execute_result"
    }
   ],
   "source": [
    "%%sql\n",
    "SELECT EMPLOYER_NAME, sum(TOTAL_WORKERS) AS WORKERS_REQUESTED\n",
    "FROM H1B\n",
    "JOIN EMPLOYER ON H1B.EMPLOYER_KEY = EMPLOYER.KEY\n",
    "JOIN CASES ON H1B.CASE_KEY = CASES.KEY\n",
    "GROUP BY EMPLOYER_NAME\n",
    "ORDER BY 2 DESC\n",
    "LIMIT 5;"
   ]
  },
  {
   "cell_type": "markdown",
   "metadata": {},
   "source": [
    "### Now take these employers and view by case_submitted_year"
   ]
  },
  {
   "cell_type": "code",
   "execution_count": 87,
   "metadata": {},
   "outputs": [
    {
     "name": "stdout",
     "output_type": "stream",
     "text": [
      " * postgresql://student@/week12\n",
      "14 rows affected.\n"
     ]
    },
    {
     "data": {
      "text/html": [
       "<table>\n",
       "    <tr>\n",
       "        <th>employer_name</th>\n",
       "        <th>case_submitted_year</th>\n",
       "        <th>workers</th>\n",
       "    </tr>\n",
       "    <tr>\n",
       "        <td>APPLE INC</td>\n",
       "        <td>2013</td>\n",
       "        <td>3</td>\n",
       "    </tr>\n",
       "    <tr>\n",
       "        <td>APPLE INC</td>\n",
       "        <td>2014</td>\n",
       "        <td>26</td>\n",
       "    </tr>\n",
       "    <tr>\n",
       "        <td>APPLE INC</td>\n",
       "        <td>2015</td>\n",
       "        <td>46</td>\n",
       "    </tr>\n",
       "    <tr>\n",
       "        <td>APPLE INC</td>\n",
       "        <td>2016</td>\n",
       "        <td>1526</td>\n",
       "    </tr>\n",
       "    <tr>\n",
       "        <td>APPLE INC</td>\n",
       "        <td>2017</td>\n",
       "        <td>24859</td>\n",
       "    </tr>\n",
       "    <tr>\n",
       "        <td>COGNIZANT TECHNOLOGY SOLUTIONS US CORPORATION</td>\n",
       "        <td>2015</td>\n",
       "        <td>280</td>\n",
       "    </tr>\n",
       "    <tr>\n",
       "        <td>COGNIZANT TECHNOLOGY SOLUTIONS US CORPORATION</td>\n",
       "        <td>2016</td>\n",
       "        <td>21880</td>\n",
       "    </tr>\n",
       "    <tr>\n",
       "        <td>COGNIZANT TECHNOLOGY SOLUTIONS US CORPORATION</td>\n",
       "        <td>2017</td>\n",
       "        <td>24611</td>\n",
       "    </tr>\n",
       "    <tr>\n",
       "        <td>DELOITTE CONSULTING LLP</td>\n",
       "        <td>2016</td>\n",
       "        <td>14440</td>\n",
       "    </tr>\n",
       "    <tr>\n",
       "        <td>DELOITTE CONSULTING LLP</td>\n",
       "        <td>2017</td>\n",
       "        <td>67826</td>\n",
       "    </tr>\n",
       "    <tr>\n",
       "        <td>HCL AMERICA INC</td>\n",
       "        <td>2016</td>\n",
       "        <td>1100</td>\n",
       "    </tr>\n",
       "    <tr>\n",
       "        <td>HCL AMERICA INC</td>\n",
       "        <td>2017</td>\n",
       "        <td>27672</td>\n",
       "    </tr>\n",
       "    <tr>\n",
       "        <td>MPHASIS CORPORATION</td>\n",
       "        <td>2016</td>\n",
       "        <td>2805</td>\n",
       "    </tr>\n",
       "    <tr>\n",
       "        <td>MPHASIS CORPORATION</td>\n",
       "        <td>2017</td>\n",
       "        <td>16790</td>\n",
       "    </tr>\n",
       "</table>"
      ],
      "text/plain": [
       "[('APPLE INC', 2013, 3),\n",
       " ('APPLE INC', 2014, 26),\n",
       " ('APPLE INC', 2015, 46),\n",
       " ('APPLE INC', 2016, 1526),\n",
       " ('APPLE INC', 2017, 24859),\n",
       " ('COGNIZANT TECHNOLOGY SOLUTIONS US CORPORATION', 2015, 280),\n",
       " ('COGNIZANT TECHNOLOGY SOLUTIONS US CORPORATION', 2016, 21880),\n",
       " ('COGNIZANT TECHNOLOGY SOLUTIONS US CORPORATION', 2017, 24611),\n",
       " ('DELOITTE CONSULTING LLP', 2016, 14440),\n",
       " ('DELOITTE CONSULTING LLP', 2017, 67826),\n",
       " ('HCL AMERICA INC', 2016, 1100),\n",
       " ('HCL AMERICA INC', 2017, 27672),\n",
       " ('MPHASIS CORPORATION', 2016, 2805),\n",
       " ('MPHASIS CORPORATION', 2017, 16790)]"
      ]
     },
     "execution_count": 87,
     "metadata": {},
     "output_type": "execute_result"
    }
   ],
   "source": [
    "%%sql\n",
    "SELECT EMPLOYER_NAME, case_submitted_year, sum(TOTAL_WORKERS) as workers\n",
    "FROM H1B\n",
    "JOIN EMPLOYER ON H1B.EMPLOYER_KEY = EMPLOYER.KEY\n",
    "JOIN CASES ON H1B.CASE_KEY = CASES.KEY\n",
    "WHERE EMPLOYER_NAME in ('DELOITTE CONSULTING LLP', 'COGNIZANT TECHNOLOGY SOLUTIONS US CORPORATION','HCL AMERICA INC', 'APPLE INC', 'MPHASIS CORPORATION')\n",
    "GROUP BY case_submitted_year, EMPLOYER_NAME\n",
    "ORDER BY 1 ASC, 2 ASC, 3 DESC;"
   ]
  },
  {
   "cell_type": "code",
   "execution_count": 105,
   "metadata": {},
   "outputs": [
    {
     "data": {
      "text/html": [
       "<img src=\"https://data-project-picture.s3.amazonaws.com/workers_top5.png\"/>"
      ],
      "text/plain": [
       "<IPython.core.display.Image object>"
      ]
     },
     "execution_count": 105,
     "metadata": {},
     "output_type": "execute_result"
    }
   ],
   "source": [
    "Image(url = \"https://data-project-picture.s3.amazonaws.com/workers_top5.png\")"
   ]
  },
  {
   "cell_type": "markdown",
   "metadata": {},
   "source": [
    "* With the time of each year, there is a increasing trend of the H1B workers required by these five companies. \n",
    "* From 2016 to 2017, there is a sharp boom of number of workers in APPLE and DELOITTE, 1500% and 369% respectively. While COGNIZANT only has a soft increase of 12.5%."
   ]
  },
  {
   "cell_type": "markdown",
   "metadata": {},
   "source": [
    "### 2.2 Finding the spread distribution for industries for the 5 top companies with most employees"
   ]
  },
  {
   "cell_type": "code",
   "execution_count": 18,
   "metadata": {},
   "outputs": [
    {
     "name": "stdout",
     "output_type": "stream",
     "text": [
      " * postgresql://student@/week12\n",
      "35 rows affected.\n"
     ]
    },
    {
     "data": {
      "text/html": [
       "<table>\n",
       "    <tr>\n",
       "        <th>employer_name</th>\n",
       "        <th>soc_name</th>\n",
       "        <th>workers</th>\n",
       "    </tr>\n",
       "    <tr>\n",
       "        <td>APPLE INC</td>\n",
       "        <td>ANALYSTS</td>\n",
       "        <td>25414</td>\n",
       "    </tr>\n",
       "    <tr>\n",
       "        <td>APPLE INC</td>\n",
       "        <td>BUSINESS OPERATIONS SPECIALIST</td>\n",
       "        <td>282</td>\n",
       "    </tr>\n",
       "    <tr>\n",
       "        <td>APPLE INC</td>\n",
       "        <td>COMPUTER OCCUPATION</td>\n",
       "        <td>278</td>\n",
       "    </tr>\n",
       "    <tr>\n",
       "        <td>COGNIZANT TECHNOLOGY SOLUTIONS US CORPORATION</td>\n",
       "        <td>ACCOUNTANTS</td>\n",
       "        <td>684</td>\n",
       "    </tr>\n",
       "    <tr>\n",
       "        <td>COGNIZANT TECHNOLOGY SOLUTIONS US CORPORATION</td>\n",
       "        <td>ANALYSTS</td>\n",
       "        <td>23521</td>\n",
       "    </tr>\n",
       "    <tr>\n",
       "        <td>COGNIZANT TECHNOLOGY SOLUTIONS US CORPORATION</td>\n",
       "        <td>ARCHITECTURE</td>\n",
       "        <td>612</td>\n",
       "    </tr>\n",
       "    <tr>\n",
       "        <td>COGNIZANT TECHNOLOGY SOLUTIONS US CORPORATION</td>\n",
       "        <td>BUSINESS OPERATIONS SPECIALIST</td>\n",
       "        <td>498</td>\n",
       "    </tr>\n",
       "    <tr>\n",
       "        <td>COGNIZANT TECHNOLOGY SOLUTIONS US CORPORATION</td>\n",
       "        <td>CHIEF EXECUTIVES</td>\n",
       "        <td>345</td>\n",
       "    </tr>\n",
       "    <tr>\n",
       "        <td>COGNIZANT TECHNOLOGY SOLUTIONS US CORPORATION</td>\n",
       "        <td>COACHES AND SCOUTS</td>\n",
       "        <td>377</td>\n",
       "    </tr>\n",
       "    <tr>\n",
       "        <td>COGNIZANT TECHNOLOGY SOLUTIONS US CORPORATION</td>\n",
       "        <td>COMPUTER OCCUPATION</td>\n",
       "        <td>16652</td>\n",
       "    </tr>\n",
       "    <tr>\n",
       "        <td>COGNIZANT TECHNOLOGY SOLUTIONS US CORPORATION</td>\n",
       "        <td>DOCTORS</td>\n",
       "        <td>265</td>\n",
       "    </tr>\n",
       "    <tr>\n",
       "        <td>COGNIZANT TECHNOLOGY SOLUTIONS US CORPORATION</td>\n",
       "        <td>EDUCATION</td>\n",
       "        <td>214</td>\n",
       "    </tr>\n",
       "    <tr>\n",
       "        <td>COGNIZANT TECHNOLOGY SOLUTIONS US CORPORATION</td>\n",
       "        <td>ENGINEERS</td>\n",
       "        <td>244</td>\n",
       "    </tr>\n",
       "    <tr>\n",
       "        <td>COGNIZANT TECHNOLOGY SOLUTIONS US CORPORATION</td>\n",
       "        <td>SCIENTIST</td>\n",
       "        <td>1873</td>\n",
       "    </tr>\n",
       "    <tr>\n",
       "        <td>DELOITTE CONSULTING LLP</td>\n",
       "        <td>ACCOUNTANTS</td>\n",
       "        <td>555</td>\n",
       "    </tr>\n",
       "    <tr>\n",
       "        <td>DELOITTE CONSULTING LLP</td>\n",
       "        <td>ANALYSTS</td>\n",
       "        <td>14670</td>\n",
       "    </tr>\n",
       "    <tr>\n",
       "        <td>DELOITTE CONSULTING LLP</td>\n",
       "        <td>ARCHITECTURE</td>\n",
       "        <td>465</td>\n",
       "    </tr>\n",
       "    <tr>\n",
       "        <td>DELOITTE CONSULTING LLP</td>\n",
       "        <td>CHIEF EXECUTIVES</td>\n",
       "        <td>315</td>\n",
       "    </tr>\n",
       "    <tr>\n",
       "        <td>DELOITTE CONSULTING LLP</td>\n",
       "        <td>COMPUTER OCCUPATION</td>\n",
       "        <td>55843</td>\n",
       "    </tr>\n",
       "    <tr>\n",
       "        <td>DELOITTE CONSULTING LLP</td>\n",
       "        <td>DESIGNERS</td>\n",
       "        <td>630</td>\n",
       "    </tr>\n",
       "    <tr>\n",
       "        <td>DELOITTE CONSULTING LLP</td>\n",
       "        <td>DOCTORS</td>\n",
       "        <td>1065</td>\n",
       "    </tr>\n",
       "    <tr>\n",
       "        <td>DELOITTE CONSULTING LLP</td>\n",
       "        <td>EDUCATION</td>\n",
       "        <td>1215</td>\n",
       "    </tr>\n",
       "    <tr>\n",
       "        <td>DELOITTE CONSULTING LLP</td>\n",
       "        <td>ENGINEERS</td>\n",
       "        <td>525</td>\n",
       "    </tr>\n",
       "    <tr>\n",
       "        <td>DELOITTE CONSULTING LLP</td>\n",
       "        <td>GRAPHIC DESIGNERS</td>\n",
       "        <td>390</td>\n",
       "    </tr>\n",
       "    <tr>\n",
       "        <td>DELOITTE CONSULTING LLP</td>\n",
       "        <td>IT MANAGERS</td>\n",
       "        <td>495</td>\n",
       "    </tr>\n",
       "    <tr>\n",
       "        <td>DELOITTE CONSULTING LLP</td>\n",
       "        <td>LAWYERS AND LEGAL SUPPORT WORKERS</td>\n",
       "        <td>215</td>\n",
       "    </tr>\n",
       "    <tr>\n",
       "        <td>DELOITTE CONSULTING LLP</td>\n",
       "        <td>MARKETING</td>\n",
       "        <td>435</td>\n",
       "    </tr>\n",
       "    <tr>\n",
       "        <td>DELOITTE CONSULTING LLP</td>\n",
       "        <td>MATHEMATICIANS AND STATISTICIANS</td>\n",
       "        <td>466</td>\n",
       "    </tr>\n",
       "    <tr>\n",
       "        <td>DELOITTE CONSULTING LLP</td>\n",
       "        <td>SCIENTIST</td>\n",
       "        <td>3211</td>\n",
       "    </tr>\n",
       "    <tr>\n",
       "        <td>HCL AMERICA INC</td>\n",
       "        <td>COMPUTER OCCUPATION</td>\n",
       "        <td>26832</td>\n",
       "    </tr>\n",
       "    <tr>\n",
       "        <td>HCL AMERICA INC</td>\n",
       "        <td>ENGINEERS</td>\n",
       "        <td>743</td>\n",
       "    </tr>\n",
       "    <tr>\n",
       "        <td>HCL AMERICA INC</td>\n",
       "        <td>SCIENTIST</td>\n",
       "        <td>207</td>\n",
       "    </tr>\n",
       "    <tr>\n",
       "        <td>MPHASIS CORPORATION</td>\n",
       "        <td>COMPUTER OCCUPATION</td>\n",
       "        <td>18318</td>\n",
       "    </tr>\n",
       "    <tr>\n",
       "        <td>MPHASIS CORPORATION</td>\n",
       "        <td>MATHEMATICIANS AND STATISTICIANS</td>\n",
       "        <td>205</td>\n",
       "    </tr>\n",
       "    <tr>\n",
       "        <td>MPHASIS CORPORATION</td>\n",
       "        <td>SCIENTIST</td>\n",
       "        <td>275</td>\n",
       "    </tr>\n",
       "</table>"
      ],
      "text/plain": [
       "[('APPLE INC', 'ANALYSTS', 25414),\n",
       " ('APPLE INC', 'BUSINESS OPERATIONS SPECIALIST', 282),\n",
       " ('APPLE INC', 'COMPUTER OCCUPATION', 278),\n",
       " ('COGNIZANT TECHNOLOGY SOLUTIONS US CORPORATION', 'ACCOUNTANTS', 684),\n",
       " ('COGNIZANT TECHNOLOGY SOLUTIONS US CORPORATION', 'ANALYSTS', 23521),\n",
       " ('COGNIZANT TECHNOLOGY SOLUTIONS US CORPORATION', 'ARCHITECTURE', 612),\n",
       " ('COGNIZANT TECHNOLOGY SOLUTIONS US CORPORATION', 'BUSINESS OPERATIONS SPECIALIST', 498),\n",
       " ('COGNIZANT TECHNOLOGY SOLUTIONS US CORPORATION', 'CHIEF EXECUTIVES', 345),\n",
       " ('COGNIZANT TECHNOLOGY SOLUTIONS US CORPORATION', 'COACHES AND SCOUTS', 377),\n",
       " ('COGNIZANT TECHNOLOGY SOLUTIONS US CORPORATION', 'COMPUTER OCCUPATION', 16652),\n",
       " ('COGNIZANT TECHNOLOGY SOLUTIONS US CORPORATION', 'DOCTORS', 265),\n",
       " ('COGNIZANT TECHNOLOGY SOLUTIONS US CORPORATION', 'EDUCATION', 214),\n",
       " ('COGNIZANT TECHNOLOGY SOLUTIONS US CORPORATION', 'ENGINEERS', 244),\n",
       " ('COGNIZANT TECHNOLOGY SOLUTIONS US CORPORATION', 'SCIENTIST', 1873),\n",
       " ('DELOITTE CONSULTING LLP', 'ACCOUNTANTS', 555),\n",
       " ('DELOITTE CONSULTING LLP', 'ANALYSTS', 14670),\n",
       " ('DELOITTE CONSULTING LLP', 'ARCHITECTURE', 465),\n",
       " ('DELOITTE CONSULTING LLP', 'CHIEF EXECUTIVES', 315),\n",
       " ('DELOITTE CONSULTING LLP', 'COMPUTER OCCUPATION', 55843),\n",
       " ('DELOITTE CONSULTING LLP', 'DESIGNERS', 630),\n",
       " ('DELOITTE CONSULTING LLP', 'DOCTORS', 1065),\n",
       " ('DELOITTE CONSULTING LLP', 'EDUCATION', 1215),\n",
       " ('DELOITTE CONSULTING LLP', 'ENGINEERS', 525),\n",
       " ('DELOITTE CONSULTING LLP', 'GRAPHIC DESIGNERS', 390),\n",
       " ('DELOITTE CONSULTING LLP', 'IT MANAGERS', 495),\n",
       " ('DELOITTE CONSULTING LLP', 'LAWYERS AND LEGAL SUPPORT WORKERS', 215),\n",
       " ('DELOITTE CONSULTING LLP', 'MARKETING', 435),\n",
       " ('DELOITTE CONSULTING LLP', 'MATHEMATICIANS AND STATISTICIANS', 466),\n",
       " ('DELOITTE CONSULTING LLP', 'SCIENTIST', 3211),\n",
       " ('HCL AMERICA INC', 'COMPUTER OCCUPATION', 26832),\n",
       " ('HCL AMERICA INC', 'ENGINEERS', 743),\n",
       " ('HCL AMERICA INC', 'SCIENTIST', 207),\n",
       " ('MPHASIS CORPORATION', 'COMPUTER OCCUPATION', 18318),\n",
       " ('MPHASIS CORPORATION', 'MATHEMATICIANS AND STATISTICIANS', 205),\n",
       " ('MPHASIS CORPORATION', 'SCIENTIST', 275)]"
      ]
     },
     "execution_count": 18,
     "metadata": {},
     "output_type": "execute_result"
    }
   ],
   "source": [
    "%%sql\n",
    "SELECT EMPLOYER_NAME, SOC_NAME, sum(TOTAL_WORKERS) as workers\n",
    "FROM H1B\n",
    "JOIN EMPLOYER ON H1B.EMPLOYER_KEY = EMPLOYER.KEY\n",
    "JOIN POSITION ON H1B.POSITION_KEY = POSITION.KEY\n",
    "WHERE EMPLOYER_NAME in ('DELOITTE CONSULTING LLP', 'COGNIZANT TECHNOLOGY SOLUTIONS US CORPORATION','HCL AMERICA INC', 'APPLE INC', 'MPHASIS CORPORATION')\n",
    "GROUP BY SOC_NAME, EMPLOYER_NAME\n",
    "HAVING sum(TOTAL_WORKERS) > 200\n",
    "ORDER BY 1 ASC, 2 ASC, 3 DESC;"
   ]
  },
  {
   "cell_type": "code",
   "execution_count": 40,
   "metadata": {},
   "outputs": [
    {
     "data": {
      "text/html": [
       "<img src=\"https://data-project-picture.s3.amazonaws.com/top_5_occupation.png\"/>"
      ],
      "text/plain": [
       "<IPython.core.display.Image object>"
      ]
     },
     "execution_count": 40,
     "metadata": {},
     "output_type": "execute_result"
    }
   ],
   "source": [
    "Image(url = 'https://data-project-picture.s3.amazonaws.com/top_5_occupation.png')"
   ]
  },
  {
   "cell_type": "markdown",
   "metadata": {},
   "source": [
    "* The five companies have businesses in a very wide range. \n",
    "* It is apparent to see that computer occupation have way more numbers of employees in each company, followed by analysts and scientists."
   ]
  },
  {
   "cell_type": "markdown",
   "metadata": {},
   "source": [
    "## Q3 - Which industries offer the highest annual wages and how do the wages compare for competitors in the top occupations?  How do wages vary over location?"
   ]
  },
  {
   "cell_type": "markdown",
   "metadata": {},
   "source": [
    "### 3.1 Finding the top 5 occupations with highest average annual wage"
   ]
  },
  {
   "cell_type": "code",
   "execution_count": 92,
   "metadata": {},
   "outputs": [
    {
     "name": "stdout",
     "output_type": "stream",
     "text": [
      " * postgresql://student@/week12\n",
      "5 rows affected.\n"
     ]
    },
    {
     "data": {
      "text/html": [
       "<table>\n",
       "    <tr>\n",
       "        <th>soc_name</th>\n",
       "        <th>avg_annual_wage</th>\n",
       "    </tr>\n",
       "    <tr>\n",
       "        <td>MANAGERS</td>\n",
       "        <td>118619.92</td>\n",
       "    </tr>\n",
       "    <tr>\n",
       "        <td>ANALYSTS</td>\n",
       "        <td>100603.98</td>\n",
       "    </tr>\n",
       "    <tr>\n",
       "        <td>DOCTORS</td>\n",
       "        <td>96327.29</td>\n",
       "    </tr>\n",
       "    <tr>\n",
       "        <td>ACCOUNTANTS</td>\n",
       "        <td>92599.80</td>\n",
       "    </tr>\n",
       "    <tr>\n",
       "        <td>FIRST LINE SUPERVISORS</td>\n",
       "        <td>90207.32</td>\n",
       "    </tr>\n",
       "</table>"
      ],
      "text/plain": [
       "[('MANAGERS', Decimal('118619.92')),\n",
       " ('ANALYSTS', Decimal('100603.98')),\n",
       " ('DOCTORS', Decimal('96327.29')),\n",
       " ('ACCOUNTANTS', Decimal('92599.80')),\n",
       " ('FIRST LINE SUPERVISORS', Decimal('90207.32'))]"
      ]
     },
     "execution_count": 92,
     "metadata": {},
     "output_type": "execute_result"
    }
   ],
   "source": [
    "%%sql\n",
    "SELECT SOC_NAME, round(avg(WAGE_ANNUAL),2) AS AVG_ANNUAL_WAGE\n",
    "FROM H1B\n",
    "JOIN POSITION ON H1B.POSITION_KEY = POSITION.KEY\n",
    "JOIN WAGE ON H1B.WAGE_KEY = WAGE.KEY\n",
    "WHERE CASE_STATUS = 'CERTIFIED'\n",
    "GROUP BY SOC_NAME\n",
    "ORDER BY 2 DESC\n",
    "LIMIT 5;"
   ]
  },
  {
   "cell_type": "code",
   "execution_count": 107,
   "metadata": {},
   "outputs": [
    {
     "data": {
      "text/html": [
       "<img src=\"https://data-project-picture.s3.amazonaws.com/top5_occupation_wage.png\"/>"
      ],
      "text/plain": [
       "<IPython.core.display.Image object>"
      ]
     },
     "execution_count": 107,
     "metadata": {},
     "output_type": "execute_result"
    }
   ],
   "source": [
    "Image(url = \"https://data-project-picture.s3.amazonaws.com/top5_occupation_wage.png\")"
   ]
  },
  {
   "cell_type": "markdown",
   "metadata": {},
   "source": [
    "### 3.2 Finding the most powerful competitors in three industries with most employees and comparing the average wage of these companies"
   ]
  },
  {
   "cell_type": "code",
   "execution_count": 6,
   "metadata": {},
   "outputs": [
    {
     "name": "stdout",
     "output_type": "stream",
     "text": [
      " * postgresql://student@/week12\n",
      "9 rows affected.\n"
     ]
    },
    {
     "data": {
      "text/html": [
       "<table>\n",
       "    <tr>\n",
       "        <th>soc_name</th>\n",
       "        <th>employer_name</th>\n",
       "        <th>workers_requested</th>\n",
       "        <th>avg_salary</th>\n",
       "    </tr>\n",
       "    <tr>\n",
       "        <td>ANALYSTS</td>\n",
       "        <td>APPLE INC</td>\n",
       "        <td>25259</td>\n",
       "        <td>132636</td>\n",
       "    </tr>\n",
       "    <tr>\n",
       "        <td>ANALYSTS</td>\n",
       "        <td>COGNIZANT TECHNOLOGY SOLUTIONS US CORPORATION</td>\n",
       "        <td>23521</td>\n",
       "        <td>75673</td>\n",
       "    </tr>\n",
       "    <tr>\n",
       "        <td>ANALYSTS</td>\n",
       "        <td>DELOITTE CONSULTING LLP</td>\n",
       "        <td>14445</td>\n",
       "        <td>90208</td>\n",
       "    </tr>\n",
       "    <tr>\n",
       "        <td>DOCTORS</td>\n",
       "        <td>SERVICENOW INC</td>\n",
       "        <td>630</td>\n",
       "        <td>106157</td>\n",
       "    </tr>\n",
       "    <tr>\n",
       "        <td>DOCTORS</td>\n",
       "        <td>DELOITTE CONSULTING LLP</td>\n",
       "        <td>990</td>\n",
       "        <td>79017</td>\n",
       "    </tr>\n",
       "    <tr>\n",
       "        <td>DOCTORS</td>\n",
       "        <td>QUALCOMM DATACENTER TECHNOLOGIES INC</td>\n",
       "        <td>700</td>\n",
       "        <td>108397</td>\n",
       "    </tr>\n",
       "    <tr>\n",
       "        <td>MANAGERS</td>\n",
       "        <td>WIPRO LLC</td>\n",
       "        <td>254</td>\n",
       "        <td>75426</td>\n",
       "    </tr>\n",
       "    <tr>\n",
       "        <td>MANAGERS</td>\n",
       "        <td>ZENSAR TECHNOLOGIES INC</td>\n",
       "        <td>281</td>\n",
       "        <td>90828</td>\n",
       "    </tr>\n",
       "    <tr>\n",
       "        <td>MANAGERS</td>\n",
       "        <td>WIPRO LIMITED</td>\n",
       "        <td>1074</td>\n",
       "        <td>73462</td>\n",
       "    </tr>\n",
       "</table>"
      ],
      "text/plain": [
       "[('ANALYSTS', 'APPLE INC', 25259, Decimal('132636')),\n",
       " ('ANALYSTS', 'COGNIZANT TECHNOLOGY SOLUTIONS US CORPORATION', 23521, Decimal('75673')),\n",
       " ('ANALYSTS', 'DELOITTE CONSULTING LLP', 14445, Decimal('90208')),\n",
       " ('DOCTORS', 'SERVICENOW INC', 630, Decimal('106157')),\n",
       " ('DOCTORS', 'DELOITTE CONSULTING LLP', 990, Decimal('79017')),\n",
       " ('DOCTORS', 'QUALCOMM DATACENTER TECHNOLOGIES INC', 700, Decimal('108397')),\n",
       " ('MANAGERS', 'WIPRO LLC', 254, Decimal('75426')),\n",
       " ('MANAGERS', 'ZENSAR TECHNOLOGIES INC', 281, Decimal('90828')),\n",
       " ('MANAGERS', 'WIPRO LIMITED', 1074, Decimal('73462'))]"
      ]
     },
     "execution_count": 6,
     "metadata": {},
     "output_type": "execute_result"
    }
   ],
   "source": [
    "%%sql\n",
    "(SELECT SOC_NAME, EMPLOYER_NAME, sum(TOTAL_WORKERS) AS WORKERS_REQUESTED, ROUND(AVG(WAGE_ANNUAL)) AS AVG_SALARY\n",
    "FROM H1B\n",
    "JOIN EMPLOYER ON H1B.EMPLOYER_KEY = EMPLOYER.KEY\n",
    "JOIN CASES ON H1B.CASE_KEY = CASES.KEY\n",
    "JOIN POSITION ON H1B.POSITION_KEY = POSITION.KEY\n",
    "JOIN WAGE ON H1B.WAGE_KEY = WAGE.KEY\n",
    "WHERE SOC_NAME IN ('ANALYSTS') AND CASE_STATUS IN ('CERTIFIED', 'CERTIFIEDWITHDRAWN')\n",
    "GROUP BY SOC_NAME, EMPLOYER_NAME\n",
    "ORDER BY 1, 3 DESC\n",
    "LIMIT 3)\n",
    "UNION\n",
    "(SELECT SOC_NAME, EMPLOYER_NAME, sum(TOTAL_WORKERS) AS WORKERS_REQUESTED, ROUND(AVG(WAGE_ANNUAL)) AS AVG_SALARY\n",
    "FROM H1B\n",
    "JOIN EMPLOYER ON H1B.EMPLOYER_KEY = EMPLOYER.KEY\n",
    "JOIN CASES ON H1B.CASE_KEY = CASES.KEY\n",
    "JOIN POSITION ON H1B.POSITION_KEY = POSITION.KEY\n",
    "JOIN WAGE ON H1B.WAGE_KEY = WAGE.KEY\n",
    "WHERE SOC_NAME IN ('DOCTORS') AND CASE_STATUS IN ('CERTIFIED', 'CERTIFIEDWITHDRAWN')\n",
    "GROUP BY SOC_NAME, EMPLOYER_NAME\n",
    "ORDER BY 1, 3 DESC\n",
    "LIMIT 3)\n",
    "UNION\n",
    "(SELECT SOC_NAME, EMPLOYER_NAME, sum(TOTAL_WORKERS) AS WORKERS_REQUESTED, ROUND(AVG(WAGE_ANNUAL)) AS AVG_SALARY\n",
    "FROM H1B\n",
    "JOIN EMPLOYER ON H1B.EMPLOYER_KEY = EMPLOYER.KEY\n",
    "JOIN CASES ON H1B.CASE_KEY = CASES.KEY\n",
    "JOIN POSITION ON H1B.POSITION_KEY = POSITION.KEY\n",
    "JOIN WAGE ON H1B.WAGE_KEY = WAGE.KEY\n",
    "WHERE SOC_NAME IN ('MANAGERS') AND CASE_STATUS IN ('CERTIFIED', 'CERTIFIEDWITHDRAWN')\n",
    "GROUP BY SOC_NAME, EMPLOYER_NAME\n",
    "ORDER BY 1, 3 DESC\n",
    "LIMIT 3)\n",
    "ORDER BY SOC_NAME;"
   ]
  },
  {
   "cell_type": "markdown",
   "metadata": {},
   "source": [
    "* We take the three postions with most workers and find out the top three companies within these industries. We and employers can utilize this analysis to get a picture of what other competitors offer in the same occupation."
   ]
  },
  {
   "cell_type": "code",
   "execution_count": 10,
   "metadata": {},
   "outputs": [
    {
     "data": {
      "text/html": [
       "<img src=\"https://data-project-picture.s3.amazonaws.com/top_analyst.png\"/>"
      ],
      "text/plain": [
       "<IPython.core.display.Image object>"
      ]
     },
     "execution_count": 10,
     "metadata": {},
     "output_type": "execute_result"
    }
   ],
   "source": [
    "Image(url = 'https://data-project-picture.s3.amazonaws.com/top_analyst.png')"
   ]
  },
  {
   "cell_type": "markdown",
   "metadata": {},
   "source": [
    "* We can see Apple pays about 30% more than Deloitte and 43% more than Cognizant Tech in analysts position. We do not have details of analyst position, but we believe that analyst could describe many different positions which may explain the variation of the payment."
   ]
  },
  {
   "cell_type": "code",
   "execution_count": 11,
   "metadata": {},
   "outputs": [
    {
     "data": {
      "text/html": [
       "<img src=\"https://data-project-picture.s3.amazonaws.com/top_doctors.png\"/>"
      ],
      "text/plain": [
       "<IPython.core.display.Image object>"
      ]
     },
     "execution_count": 11,
     "metadata": {},
     "output_type": "execute_result"
    }
   ],
   "source": [
    "Image(url = 'https://data-project-picture.s3.amazonaws.com/top_doctors.png')"
   ]
  },
  {
   "cell_type": "markdown",
   "metadata": {},
   "source": [
    "* For doctors we can see that the average wage is also quite high however Qualcomm and Servicenow offer quite a bit more than Deloitte.  The spread of total workers requested is relatively stable."
   ]
  },
  {
   "cell_type": "code",
   "execution_count": 12,
   "metadata": {},
   "outputs": [
    {
     "data": {
      "text/html": [
       "<img src=\"https://data-project-picture.s3.amazonaws.com/top_manager.png\"/>"
      ],
      "text/plain": [
       "<IPython.core.display.Image object>"
      ]
     },
     "execution_count": 12,
     "metadata": {},
     "output_type": "execute_result"
    }
   ],
   "source": [
    "Image(url = 'https://data-project-picture.s3.amazonaws.com/top_manager.png')"
   ]
  },
  {
   "cell_type": "markdown",
   "metadata": {},
   "source": [
    "* Zensar appears to offer the most for managers while Wipro Limited requests the most managers as employees.  It is difficult to make many conclusions as 'managers' could be within many different occupations where wages vary."
   ]
  },
  {
   "cell_type": "markdown",
   "metadata": {},
   "source": [
    "### 3.3 Within the 5 top states with most H1B employees, find the trend of average annual wage in recent years"
   ]
  },
  {
   "cell_type": "markdown",
   "metadata": {},
   "source": [
    "* Find the top 5 states with most H1B employees"
   ]
  },
  {
   "cell_type": "code",
   "execution_count": 75,
   "metadata": {},
   "outputs": [
    {
     "name": "stdout",
     "output_type": "stream",
     "text": [
      " * postgresql://student@/week12\n",
      "5 rows affected.\n"
     ]
    },
    {
     "data": {
      "text/html": [
       "<table>\n",
       "    <tr>\n",
       "        <th>employer_state</th>\n",
       "        <th>sum</th>\n",
       "    </tr>\n",
       "    <tr>\n",
       "        <td>CA</td>\n",
       "        <td>245038</td>\n",
       "    </tr>\n",
       "    <tr>\n",
       "        <td>PA</td>\n",
       "        <td>140534</td>\n",
       "    </tr>\n",
       "    <tr>\n",
       "        <td>TX</td>\n",
       "        <td>133619</td>\n",
       "    </tr>\n",
       "    <tr>\n",
       "        <td>NJ</td>\n",
       "        <td>91595</td>\n",
       "    </tr>\n",
       "    <tr>\n",
       "        <td>NY</td>\n",
       "        <td>66704</td>\n",
       "    </tr>\n",
       "</table>"
      ],
      "text/plain": [
       "[('CA', 245038), ('PA', 140534), ('TX', 133619), ('NJ', 91595), ('NY', 66704)]"
      ]
     },
     "execution_count": 75,
     "metadata": {},
     "output_type": "execute_result"
    }
   ],
   "source": [
    "%%sql\n",
    "SELECT EMPLOYER_STATE, SUM(TOTAL_WORKERS)\n",
    "FROM H1B\n",
    "JOIN EMPLOYER ON H1B.EMPLOYER_KEY = EMPLOYER.KEY\n",
    "JOIN CASES ON H1B.CASE_KEY = CASES.KEY\n",
    "GROUP BY 1\n",
    "ORDER BY SUM DESC\n",
    "LIMIT 5;"
   ]
  },
  {
   "cell_type": "markdown",
   "metadata": {},
   "source": [
    "* Find average annual wage in these 5 states"
   ]
  },
  {
   "cell_type": "code",
   "execution_count": 11,
   "metadata": {},
   "outputs": [
    {
     "name": "stdout",
     "output_type": "stream",
     "text": [
      " * postgresql://student@/week12\n",
      "28 rows affected.\n"
     ]
    },
    {
     "data": {
      "text/html": [
       "<table>\n",
       "    <tr>\n",
       "        <th>employer_state</th>\n",
       "        <th>avg_annual_wage</th>\n",
       "        <th>case_submitted_year</th>\n",
       "    </tr>\n",
       "    <tr>\n",
       "        <td>CA</td>\n",
       "        <td>71000.00</td>\n",
       "        <td>2011</td>\n",
       "    </tr>\n",
       "    <tr>\n",
       "        <td>CA</td>\n",
       "        <td>72800.00</td>\n",
       "        <td>2012</td>\n",
       "    </tr>\n",
       "    <tr>\n",
       "        <td>CA</td>\n",
       "        <td>91836.56</td>\n",
       "        <td>2013</td>\n",
       "    </tr>\n",
       "    <tr>\n",
       "        <td>CA</td>\n",
       "        <td>98184.84</td>\n",
       "        <td>2014</td>\n",
       "    </tr>\n",
       "    <tr>\n",
       "        <td>CA</td>\n",
       "        <td>104305.76</td>\n",
       "        <td>2015</td>\n",
       "    </tr>\n",
       "    <tr>\n",
       "        <td>CA</td>\n",
       "        <td>107613.12</td>\n",
       "        <td>2016</td>\n",
       "    </tr>\n",
       "    <tr>\n",
       "        <td>CA</td>\n",
       "        <td>103642.73</td>\n",
       "        <td>2017</td>\n",
       "    </tr>\n",
       "    <tr>\n",
       "        <td>NJ</td>\n",
       "        <td>68674.67</td>\n",
       "        <td>2012</td>\n",
       "    </tr>\n",
       "    <tr>\n",
       "        <td>NJ</td>\n",
       "        <td>64721.83</td>\n",
       "        <td>2013</td>\n",
       "    </tr>\n",
       "    <tr>\n",
       "        <td>NJ</td>\n",
       "        <td>70376.07</td>\n",
       "        <td>2014</td>\n",
       "    </tr>\n",
       "    <tr>\n",
       "        <td>NJ</td>\n",
       "        <td>68081.69</td>\n",
       "        <td>2015</td>\n",
       "    </tr>\n",
       "    <tr>\n",
       "        <td>NJ</td>\n",
       "        <td>80989.64</td>\n",
       "        <td>2016</td>\n",
       "    </tr>\n",
       "    <tr>\n",
       "        <td>NJ</td>\n",
       "        <td>83146.48</td>\n",
       "        <td>2017</td>\n",
       "    </tr>\n",
       "    <tr>\n",
       "        <td>NY</td>\n",
       "        <td>69218.24</td>\n",
       "        <td>2013</td>\n",
       "    </tr>\n",
       "    <tr>\n",
       "        <td>NY</td>\n",
       "        <td>89250.41</td>\n",
       "        <td>2014</td>\n",
       "    </tr>\n",
       "    <tr>\n",
       "        <td>NY</td>\n",
       "        <td>99982.29</td>\n",
       "        <td>2015</td>\n",
       "    </tr>\n",
       "    <tr>\n",
       "        <td>NY</td>\n",
       "        <td>100239.10</td>\n",
       "        <td>2016</td>\n",
       "    </tr>\n",
       "    <tr>\n",
       "        <td>NY</td>\n",
       "        <td>90147.73</td>\n",
       "        <td>2017</td>\n",
       "    </tr>\n",
       "    <tr>\n",
       "        <td>PA</td>\n",
       "        <td>63256.36</td>\n",
       "        <td>2013</td>\n",
       "    </tr>\n",
       "    <tr>\n",
       "        <td>PA</td>\n",
       "        <td>65529.21</td>\n",
       "        <td>2014</td>\n",
       "    </tr>\n",
       "    <tr>\n",
       "        <td>PA</td>\n",
       "        <td>70186.27</td>\n",
       "        <td>2015</td>\n",
       "    </tr>\n",
       "    <tr>\n",
       "        <td>PA</td>\n",
       "        <td>89530.97</td>\n",
       "        <td>2016</td>\n",
       "    </tr>\n",
       "    <tr>\n",
       "        <td>PA</td>\n",
       "        <td>84928.38</td>\n",
       "        <td>2017</td>\n",
       "    </tr>\n",
       "    <tr>\n",
       "        <td>TX</td>\n",
       "        <td>71112.78</td>\n",
       "        <td>2013</td>\n",
       "    </tr>\n",
       "    <tr>\n",
       "        <td>TX</td>\n",
       "        <td>78540.24</td>\n",
       "        <td>2014</td>\n",
       "    </tr>\n",
       "    <tr>\n",
       "        <td>TX</td>\n",
       "        <td>78071.02</td>\n",
       "        <td>2015</td>\n",
       "    </tr>\n",
       "    <tr>\n",
       "        <td>TX</td>\n",
       "        <td>82739.49</td>\n",
       "        <td>2016</td>\n",
       "    </tr>\n",
       "    <tr>\n",
       "        <td>TX</td>\n",
       "        <td>80788.87</td>\n",
       "        <td>2017</td>\n",
       "    </tr>\n",
       "</table>"
      ],
      "text/plain": [
       "[('CA', Decimal('71000.00'), 2011),\n",
       " ('CA', Decimal('72800.00'), 2012),\n",
       " ('CA', Decimal('91836.56'), 2013),\n",
       " ('CA', Decimal('98184.84'), 2014),\n",
       " ('CA', Decimal('104305.76'), 2015),\n",
       " ('CA', Decimal('107613.12'), 2016),\n",
       " ('CA', Decimal('103642.73'), 2017),\n",
       " ('NJ', Decimal('68674.67'), 2012),\n",
       " ('NJ', Decimal('64721.83'), 2013),\n",
       " ('NJ', Decimal('70376.07'), 2014),\n",
       " ('NJ', Decimal('68081.69'), 2015),\n",
       " ('NJ', Decimal('80989.64'), 2016),\n",
       " ('NJ', Decimal('83146.48'), 2017),\n",
       " ('NY', Decimal('69218.24'), 2013),\n",
       " ('NY', Decimal('89250.41'), 2014),\n",
       " ('NY', Decimal('99982.29'), 2015),\n",
       " ('NY', Decimal('100239.10'), 2016),\n",
       " ('NY', Decimal('90147.73'), 2017),\n",
       " ('PA', Decimal('63256.36'), 2013),\n",
       " ('PA', Decimal('65529.21'), 2014),\n",
       " ('PA', Decimal('70186.27'), 2015),\n",
       " ('PA', Decimal('89530.97'), 2016),\n",
       " ('PA', Decimal('84928.38'), 2017),\n",
       " ('TX', Decimal('71112.78'), 2013),\n",
       " ('TX', Decimal('78540.24'), 2014),\n",
       " ('TX', Decimal('78071.02'), 2015),\n",
       " ('TX', Decimal('82739.49'), 2016),\n",
       " ('TX', Decimal('80788.87'), 2017)]"
      ]
     },
     "execution_count": 11,
     "metadata": {},
     "output_type": "execute_result"
    }
   ],
   "source": [
    "%%sql\n",
    "SELECT EMPLOYER_STATE, ROUND(AVG(WAGE_ANNUAL),2) AS AVG_ANNUAL_WAGE, CASE_SUBMITTED_YEAR\n",
    "FROM H1B\n",
    "JOIN EMPLOYER ON H1B.EMPLOYER_KEY = EMPLOYER.KEY\n",
    "JOIN WAGE ON H1B.WAGE_KEY = WAGE.KEY\n",
    "JOIN CASES ON H1B.CASE_KEY = CASES.KEY\n",
    "WHERE EMPLOYER_STATE IN ('CA','PA','TX','NJ','NY') AND CASE_STATUS IN ('CERTIFIED','CERTIFIEDWITHDRAWN')\n",
    "GROUP BY 1, 3\n",
    "ORDER BY 1 ASC, 3 ASC;"
   ]
  },
  {
   "cell_type": "code",
   "execution_count": 45,
   "metadata": {},
   "outputs": [
    {
     "data": {
      "text/html": [
       "<img src=\"https://data-project-picture.s3.amazonaws.com/top5_states_total_workers_fixed.png\"/>"
      ],
      "text/plain": [
       "<IPython.core.display.Image object>"
      ]
     },
     "execution_count": 45,
     "metadata": {},
     "output_type": "execute_result"
    }
   ],
   "source": [
    "Image(url = \"https://data-project-picture.s3.amazonaws.com/top5_states_total_workers_fixed.png\")"
   ]
  },
  {
   "cell_type": "markdown",
   "metadata": {},
   "source": [
    "* We can see from the line graph that in these five states with most H1B employees, the average annual wage is  increasing with time in recent years.  Wages are highest in California and New York - which matches the high cost of living in these areas.\n",
    "* We are only interested in the cases that have been certified or certified-withdraw, because we identified some input errors for wages which led to a withdraw or denial.\n",
    "* In the graph above we can see that wages drop from 2016 to 2017.  Below we run a query of the prevailing wage which is the  government required minimum wage for different job types.  We can see from the query below that the government dropped the prevailing wage which explains the 2016 to 2017 decrease from employer wages."
   ]
  },
  {
   "cell_type": "code",
   "execution_count": 31,
   "metadata": {},
   "outputs": [
    {
     "name": "stdout",
     "output_type": "stream",
     "text": [
      " * postgresql://student@/week12\n",
      "28 rows affected.\n"
     ]
    },
    {
     "data": {
      "text/html": [
       "<table>\n",
       "    <tr>\n",
       "        <th>employer_state</th>\n",
       "        <th>avg_prevailing</th>\n",
       "        <th>case_submitted_year</th>\n",
       "    </tr>\n",
       "    <tr>\n",
       "        <td>CA</td>\n",
       "        <td>70907.00</td>\n",
       "        <td>2011</td>\n",
       "    </tr>\n",
       "    <tr>\n",
       "        <td>CA</td>\n",
       "        <td>72629.40</td>\n",
       "        <td>2012</td>\n",
       "    </tr>\n",
       "    <tr>\n",
       "        <td>CA</td>\n",
       "        <td>85230.20</td>\n",
       "        <td>2013</td>\n",
       "    </tr>\n",
       "    <tr>\n",
       "        <td>CA</td>\n",
       "        <td>87778.19</td>\n",
       "        <td>2014</td>\n",
       "    </tr>\n",
       "    <tr>\n",
       "        <td>CA</td>\n",
       "        <td>92193.57</td>\n",
       "        <td>2015</td>\n",
       "    </tr>\n",
       "    <tr>\n",
       "        <td>CA</td>\n",
       "        <td>97219.97</td>\n",
       "        <td>2016</td>\n",
       "    </tr>\n",
       "    <tr>\n",
       "        <td>CA</td>\n",
       "        <td>89017.82</td>\n",
       "        <td>2017</td>\n",
       "    </tr>\n",
       "    <tr>\n",
       "        <td>NJ</td>\n",
       "        <td>68674.67</td>\n",
       "        <td>2012</td>\n",
       "    </tr>\n",
       "    <tr>\n",
       "        <td>NJ</td>\n",
       "        <td>59350.71</td>\n",
       "        <td>2013</td>\n",
       "    </tr>\n",
       "    <tr>\n",
       "        <td>NJ</td>\n",
       "        <td>63467.08</td>\n",
       "        <td>2014</td>\n",
       "    </tr>\n",
       "    <tr>\n",
       "        <td>NJ</td>\n",
       "        <td>61442.67</td>\n",
       "        <td>2015</td>\n",
       "    </tr>\n",
       "    <tr>\n",
       "        <td>NJ</td>\n",
       "        <td>71163.91</td>\n",
       "        <td>2016</td>\n",
       "    </tr>\n",
       "    <tr>\n",
       "        <td>NJ</td>\n",
       "        <td>69081.32</td>\n",
       "        <td>2017</td>\n",
       "    </tr>\n",
       "    <tr>\n",
       "        <td>NY</td>\n",
       "        <td>62013.47</td>\n",
       "        <td>2013</td>\n",
       "    </tr>\n",
       "    <tr>\n",
       "        <td>NY</td>\n",
       "        <td>74418.67</td>\n",
       "        <td>2014</td>\n",
       "    </tr>\n",
       "    <tr>\n",
       "        <td>NY</td>\n",
       "        <td>80945.08</td>\n",
       "        <td>2015</td>\n",
       "    </tr>\n",
       "    <tr>\n",
       "        <td>NY</td>\n",
       "        <td>84332.94</td>\n",
       "        <td>2016</td>\n",
       "    </tr>\n",
       "    <tr>\n",
       "        <td>NY</td>\n",
       "        <td>75216.73</td>\n",
       "        <td>2017</td>\n",
       "    </tr>\n",
       "    <tr>\n",
       "        <td>PA</td>\n",
       "        <td>43748.33</td>\n",
       "        <td>2013</td>\n",
       "    </tr>\n",
       "    <tr>\n",
       "        <td>PA</td>\n",
       "        <td>58291.42</td>\n",
       "        <td>2014</td>\n",
       "    </tr>\n",
       "    <tr>\n",
       "        <td>PA</td>\n",
       "        <td>60985.04</td>\n",
       "        <td>2015</td>\n",
       "    </tr>\n",
       "    <tr>\n",
       "        <td>PA</td>\n",
       "        <td>75470.09</td>\n",
       "        <td>2016</td>\n",
       "    </tr>\n",
       "    <tr>\n",
       "        <td>PA</td>\n",
       "        <td>72985.53</td>\n",
       "        <td>2017</td>\n",
       "    </tr>\n",
       "    <tr>\n",
       "        <td>TX</td>\n",
       "        <td>62367.87</td>\n",
       "        <td>2013</td>\n",
       "    </tr>\n",
       "    <tr>\n",
       "        <td>TX</td>\n",
       "        <td>65165.25</td>\n",
       "        <td>2014</td>\n",
       "    </tr>\n",
       "    <tr>\n",
       "        <td>TX</td>\n",
       "        <td>66718.50</td>\n",
       "        <td>2015</td>\n",
       "    </tr>\n",
       "    <tr>\n",
       "        <td>TX</td>\n",
       "        <td>73975.45</td>\n",
       "        <td>2016</td>\n",
       "    </tr>\n",
       "    <tr>\n",
       "        <td>TX</td>\n",
       "        <td>71804.69</td>\n",
       "        <td>2017</td>\n",
       "    </tr>\n",
       "</table>"
      ],
      "text/plain": [
       "[('CA', Decimal('70907.00'), 2011),\n",
       " ('CA', Decimal('72629.40'), 2012),\n",
       " ('CA', Decimal('85230.20'), 2013),\n",
       " ('CA', Decimal('87778.19'), 2014),\n",
       " ('CA', Decimal('92193.57'), 2015),\n",
       " ('CA', Decimal('97219.97'), 2016),\n",
       " ('CA', Decimal('89017.82'), 2017),\n",
       " ('NJ', Decimal('68674.67'), 2012),\n",
       " ('NJ', Decimal('59350.71'), 2013),\n",
       " ('NJ', Decimal('63467.08'), 2014),\n",
       " ('NJ', Decimal('61442.67'), 2015),\n",
       " ('NJ', Decimal('71163.91'), 2016),\n",
       " ('NJ', Decimal('69081.32'), 2017),\n",
       " ('NY', Decimal('62013.47'), 2013),\n",
       " ('NY', Decimal('74418.67'), 2014),\n",
       " ('NY', Decimal('80945.08'), 2015),\n",
       " ('NY', Decimal('84332.94'), 2016),\n",
       " ('NY', Decimal('75216.73'), 2017),\n",
       " ('PA', Decimal('43748.33'), 2013),\n",
       " ('PA', Decimal('58291.42'), 2014),\n",
       " ('PA', Decimal('60985.04'), 2015),\n",
       " ('PA', Decimal('75470.09'), 2016),\n",
       " ('PA', Decimal('72985.53'), 2017),\n",
       " ('TX', Decimal('62367.87'), 2013),\n",
       " ('TX', Decimal('65165.25'), 2014),\n",
       " ('TX', Decimal('66718.50'), 2015),\n",
       " ('TX', Decimal('73975.45'), 2016),\n",
       " ('TX', Decimal('71804.69'), 2017)]"
      ]
     },
     "execution_count": 31,
     "metadata": {},
     "output_type": "execute_result"
    }
   ],
   "source": [
    "%%sql\n",
    "SELECT EMPLOYER_STATE, ROUND(AVG(PREVAILING_WAGE_ANNUAL),2) AS AVG_PREVAILING, CASE_SUBMITTED_YEAR\n",
    "FROM H1B\n",
    "JOIN EMPLOYER ON H1B.EMPLOYER_KEY = EMPLOYER.KEY\n",
    "JOIN WAGE ON H1B.WAGE_KEY = WAGE.KEY\n",
    "JOIN CASES ON H1B.CASE_KEY = CASES.KEY\n",
    "WHERE EMPLOYER_STATE IN ('CA','PA','TX','NJ','NY') AND CASE_STATUS IN ('CERTIFIED','CERTIFIEDWITHDRAWN')\n",
    "GROUP BY 1, 3\n",
    "ORDER BY 1 ASC, 3 ASC;"
   ]
  },
  {
   "cell_type": "markdown",
   "metadata": {},
   "source": [
    "### Conclusions"
   ]
  },
  {
   "cell_type": "markdown",
   "metadata": {},
   "source": [
    "* Along with the conclusions above, we can conclude the following:\n",
    "    * Different data elements (willful violator, month, and wage) can be used to see patterns in the case_status denials and approvals.\n",
    "    * We were able to identify an upward trend in the demand in labor for top companies and industries and identify top positions and industries that these companies were in.\n",
    "    * We were able to identify differences in wages over employers, locations, and over time. We also were able to perform analyes that may be useful to companies interseted in the wages of their competitors. "
   ]
  },
  {
   "cell_type": "markdown",
   "metadata": {},
   "source": [
    "#### Each group member contributed to all parts of the project including the powerpoint.  We worked offline on three occaisions and online together to compolete the project.  Each member specifically contributed the code for one of the four tables dimension tables.  Each member also contributed significantly to the queries for the business questions. For the presentation Miranda will present the introduction, Michael will present business question 1, Maxine will present business question 2, and Zili will present the third business question. "
   ]
  }
 ],
 "metadata": {
  "kernelspec": {
   "display_name": "Python 3",
   "language": "python",
   "name": "python3"
  },
  "language_info": {
   "codemirror_mode": {
    "name": "ipython",
    "version": 3
   },
   "file_extension": ".py",
   "mimetype": "text/x-python",
   "name": "python",
   "nbconvert_exporter": "python",
   "pygments_lexer": "ipython3",
   "version": "3.7.4"
  }
 },
 "nbformat": 4,
 "nbformat_minor": 2
}

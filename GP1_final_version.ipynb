{
 "cells": [
  {
   "cell_type": "markdown",
   "metadata": {},
   "source": [
    "# Group Project 1"
   ]
  },
  {
   "cell_type": "markdown",
   "metadata": {},
   "source": [
    "Author: Group 18\n",
    "\n",
    "* Mengxin Tan; GWID: G38541671\n",
    "* Zili Bu(Group Leader); GWID: G36963059\n",
    "* Michael Lombardo; GWID: G47242943\n",
    "* Junyi Qian; GWID: G37449683"
   ]
  },
  {
   "cell_type": "markdown",
   "metadata": {},
   "source": [
    "Set up"
   ]
  },
  {
   "cell_type": "code",
   "execution_count": 1,
   "metadata": {},
   "outputs": [],
   "source": [
    "# Python built-in modules\n",
    "import os"
   ]
  },
  {
   "cell_type": "markdown",
   "metadata": {},
   "source": [
    "## Q1 Download the target dataset and unzip it:"
   ]
  },
  {
   "cell_type": "code",
   "execution_count": 2,
   "metadata": {},
   "outputs": [
    {
     "name": "stdout",
     "output_type": "stream",
     "text": [
      "--2019-09-23 17:06:28--  https://www.fec.gov/files/bulk-downloads/2020/oth20.zip\n",
      "Resolving www.fec.gov (www.fec.gov)... 99.84.104.67, 99.84.104.126, 99.84.104.24, ...\n",
      "Connecting to www.fec.gov (www.fec.gov)|99.84.104.67|:443... connected.\n",
      "HTTP request sent, awaiting response... 302 Moved Temporarily\n",
      "Location: https://cg-519a459a-0ea3-42c2-b7bc-fa1143481f74.s3-us-gov-west-1.amazonaws.com/bulk-downloads/2020/oth20.zip [following]\n",
      "--2019-09-23 17:06:28--  https://cg-519a459a-0ea3-42c2-b7bc-fa1143481f74.s3-us-gov-west-1.amazonaws.com/bulk-downloads/2020/oth20.zip\n",
      "Resolving cg-519a459a-0ea3-42c2-b7bc-fa1143481f74.s3-us-gov-west-1.amazonaws.com (cg-519a459a-0ea3-42c2-b7bc-fa1143481f74.s3-us-gov-west-1.amazonaws.com)... 52.95.142.16\n",
      "Connecting to cg-519a459a-0ea3-42c2-b7bc-fa1143481f74.s3-us-gov-west-1.amazonaws.com (cg-519a459a-0ea3-42c2-b7bc-fa1143481f74.s3-us-gov-west-1.amazonaws.com)|52.95.142.16|:443... connected.\n",
      "HTTP request sent, awaiting response... 200 OK\n",
      "Length: 10433765 (10.0M) [application/zip]\n",
      "Saving to: ‘oth20.zip’\n",
      "\n",
      "oth20.zip           100%[===================>]   9.95M  11.5MB/s    in 0.9s    \n",
      "\n",
      "2019-09-23 17:06:29 (11.5 MB/s) - ‘oth20.zip’ saved [10433765/10433765]\n",
      "\n"
     ]
    }
   ],
   "source": [
    "!wget https://www.fec.gov/files/bulk-downloads/2020/oth20.zip"
   ]
  },
  {
   "cell_type": "code",
   "execution_count": 3,
   "metadata": {},
   "outputs": [
    {
     "name": "stdout",
     "output_type": "stream",
     "text": [
      "Archive:  oth20.zip\n",
      "  inflating: itoth.txt               \n"
     ]
    }
   ],
   "source": [
    "!unzip oth20.zip"
   ]
  },
  {
   "cell_type": "markdown",
   "metadata": {},
   "source": [
    "## Q1 Download the header:"
   ]
  },
  {
   "cell_type": "code",
   "execution_count": 4,
   "metadata": {},
   "outputs": [
    {
     "name": "stdout",
     "output_type": "stream",
     "text": [
      "--2019-09-23 17:06:34--  https://www.fec.gov/files/bulk-downloads/data_dictionaries/oth_header_file.csv\n",
      "Resolving www.fec.gov (www.fec.gov)... 99.84.104.62, 99.84.104.24, 99.84.104.126, ...\n",
      "Connecting to www.fec.gov (www.fec.gov)|99.84.104.62|:443... connected.\n",
      "HTTP request sent, awaiting response... 302 Moved Temporarily\n",
      "Location: https://cg-519a459a-0ea3-42c2-b7bc-fa1143481f74.s3-us-gov-west-1.amazonaws.com/bulk-downloads/data_dictionaries/oth_header_file.csv [following]\n",
      "--2019-09-23 17:06:34--  https://cg-519a459a-0ea3-42c2-b7bc-fa1143481f74.s3-us-gov-west-1.amazonaws.com/bulk-downloads/data_dictionaries/oth_header_file.csv\n",
      "Resolving cg-519a459a-0ea3-42c2-b7bc-fa1143481f74.s3-us-gov-west-1.amazonaws.com (cg-519a459a-0ea3-42c2-b7bc-fa1143481f74.s3-us-gov-west-1.amazonaws.com)... 52.95.142.40\n",
      "Connecting to cg-519a459a-0ea3-42c2-b7bc-fa1143481f74.s3-us-gov-west-1.amazonaws.com (cg-519a459a-0ea3-42c2-b7bc-fa1143481f74.s3-us-gov-west-1.amazonaws.com)|52.95.142.40|:443... connected.\n",
      "HTTP request sent, awaiting response... 200 OK\n",
      "Length: 204 [binary/octet-stream]\n",
      "Saving to: ‘oth_header_file.csv’\n",
      "\n",
      "oth_header_file.csv 100%[===================>]     204  --.-KB/s    in 0s      \n",
      "\n",
      "2019-09-23 17:06:35 (9.12 MB/s) - ‘oth_header_file.csv’ saved [204/204]\n",
      "\n"
     ]
    }
   ],
   "source": [
    "!wget https://www.fec.gov/files/bulk-downloads/data_dictionaries/oth_header_file.csv"
   ]
  },
  {
   "cell_type": "markdown",
   "metadata": {},
   "source": [
    "## Q2 Stack the data file and header file into one:"
   ]
  },
  {
   "cell_type": "markdown",
   "metadata": {},
   "source": [
    "Transfer the format of txt into csv:"
   ]
  },
  {
   "cell_type": "code",
   "execution_count": 5,
   "metadata": {},
   "outputs": [],
   "source": [
    "!touch itoth.csv #create a new csv file to store the dataset"
   ]
  },
  {
   "cell_type": "code",
   "execution_count": 6,
   "metadata": {},
   "outputs": [],
   "source": [
    "!cat itoth.txt > itoth.csv #store the dataset in the csv file. Delimiter: pipe"
   ]
  },
  {
   "cell_type": "markdown",
   "metadata": {},
   "source": [
    "Prepare for merging:"
   ]
  },
  {
   "cell_type": "markdown",
   "metadata": {},
   "source": [
    "The delimiter of the header file is comma"
   ]
  },
  {
   "cell_type": "code",
   "execution_count": 7,
   "metadata": {},
   "outputs": [],
   "source": [
    "!cat oth_header_file.csv | tr  \",\" \"|\" > oth_header_file_pipe.csv #adjust the delimiter, from comma to pipe, the same as the dataset"
   ]
  },
  {
   "cell_type": "markdown",
   "metadata": {},
   "source": [
    "Merge the dataset and the header:"
   ]
  },
  {
   "cell_type": "code",
   "execution_count": 8,
   "metadata": {},
   "outputs": [],
   "source": [
    "!cat oth_header_file_pipe.csv itoth.csv > oth.csv # merge the data into a new file, header on top"
   ]
  },
  {
   "cell_type": "code",
   "execution_count": 9,
   "metadata": {},
   "outputs": [
    {
     "name": "stdout",
     "output_type": "stream",
     "text": [
      "  1: CMTE_ID|AMNDT_IND|RPT_TP|TRANSACTION_PGI|IMAGE_NUM|TRANSACTION_TP|ENTITY_TP|NAME|CITY|STATE|ZIP_CODE|EMPLOYER|OCCUPATION|TRANSACTION_DT|TRANSACTION_AMT|OTHER_ID|TRAN_ID|FILE_NUM|MEMO_CD|MEMO_TEXT|SUB_ID\n"
     ]
    }
   ],
   "source": [
    "!csvcut -n oth.csv # check the header "
   ]
  },
  {
   "cell_type": "markdown",
   "metadata": {},
   "source": [
    "Find the number of lines in merged file:"
   ]
  },
  {
   "cell_type": "code",
   "execution_count": 10,
   "metadata": {},
   "outputs": [
    {
     "name": "stdout",
     "output_type": "stream",
     "text": [
      "302702 oth.csv\n"
     ]
    }
   ],
   "source": [
    "!wc -l oth.csv"
   ]
  },
  {
   "cell_type": "markdown",
   "metadata": {},
   "source": [
    "## Q3 Extracting columns, generating stats"
   ]
  },
  {
   "cell_type": "markdown",
   "metadata": {},
   "source": [
    "Using csvcut to generate the header names into a new file "
   ]
  },
  {
   "cell_type": "code",
   "execution_count": 11,
   "metadata": {},
   "outputs": [],
   "source": [
    "!csvcut -c 1,4,7,8,9,10,11,12,14,15 oth.csv -d \"|\" > stats1.csv # extract the required columns  into a new file called \"stats1.csv\""
   ]
  },
  {
   "cell_type": "code",
   "execution_count": 12,
   "metadata": {},
   "outputs": [
    {
     "name": "stdout",
     "output_type": "stream",
     "text": [
      "  1. \"CMTE_ID\"\n",
      "\n",
      "\tType of data:          Text\n",
      "\tContains null values:  False\n",
      "\tUnique values:         4550\n",
      "\tLongest value:         9 characters\n",
      "\tMost common values:    C00003418 (141182x)\n",
      "\t                       C00695510 (10830x)\n",
      "\t                       C00580100 (5835x)\n",
      "\t                       C00075820 (2070x)\n",
      "\t                       C00420935 (1800x)\n",
      "\n",
      "  2. \"TRANSACTION_PGI\"\n",
      "\n",
      "\tType of data:          Text\n",
      "\tContains null values:  True (excluded from calculations)\n",
      "\tUnique values:         14\n",
      "\tLongest value:         5 characters\n",
      "\tMost common values:    P (283771x)\n",
      "\t                       G (17288x)\n",
      "\t                       S (528x)\n",
      "\t                       O (327x)\n",
      "\t                       C (296x)\n",
      "\n",
      "  3. \"ENTITY_TP\"\n",
      "\n",
      "\tType of data:          Text\n",
      "\tContains null values:  True (excluded from calculations)\n",
      "\tUnique values:         8\n",
      "\tLongest value:         3 characters\n",
      "\tMost common values:    IND (188081x)\n",
      "\t                       CCM (71059x)\n",
      "\t                       PAC (28398x)\n",
      "\t                       PTY (5142x)\n",
      "\t                       COM (4052x)\n",
      "\n",
      "  4. \"NAME\"\n",
      "\n",
      "\tType of data:          Text\n",
      "\tContains null values:  True (excluded from calculations)\n",
      "\tUnique values:         78336\n",
      "\tLongest value:         170 characters\n",
      "\tMost common values:    CORY GARDNER FOR SENATE (625x)\n",
      "\t                       PETERS FOR MICHIGAN (605x)\n",
      "\t                       THOM TILLIS COMMITTEE (551x)\n",
      "\t                       DCCC (548x)\n",
      "\t                       DEMOCRATIC NATIONAL COMMITTEE (495x)\n",
      "\n",
      "  5. \"CITY\"\n",
      "\n",
      "\tType of data:          Text\n",
      "\tContains null values:  True (excluded from calculations)\n",
      "\tUnique values:         8783\n",
      "\tLongest value:         30 characters\n",
      "\tMost common values:    WASHINGTON (23618x)\n",
      "\t                       ALEXANDRIA (5606x)\n",
      "\t                       NEW YORK (4858x)\n",
      "\t                       HOUSTON (3385x)\n",
      "\t                       ATLANTA (2465x)\n",
      "\n",
      "  6. \"STATE\"\n",
      "\n",
      "\tType of data:          Text\n",
      "\tContains null values:  True (excluded from calculations)\n",
      "\tUnique values:         61\n",
      "\tLongest value:         2 characters\n",
      "\tMost common values:    CA (33917x)\n",
      "\t                       TX (25833x)\n",
      "\t                       DC (23560x)\n",
      "\t                       FL (19696x)\n",
      "\t                       NY (16037x)\n",
      "\n",
      "  7. \"ZIP_CODE\"\n",
      "\n",
      "\tType of data:          Text\n",
      "\tContains null values:  True (excluded from calculations)\n",
      "\tUnique values:         67798\n",
      "\tLongest value:         9 characters\n",
      "\tMost common values:    20003 (5779x)\n",
      "\t                       22314 (2546x)\n",
      "\t                       20005 (1848x)\n",
      "\t                       20002 (1403x)\n",
      "\t                       200034024 (1263x)\n",
      "\n",
      "  8. \"EMPLOYER\"\n",
      "\n",
      "\tType of data:          Text\n",
      "\tContains null values:  True (excluded from calculations)\n",
      "\tUnique values:         21745\n",
      "\tLongest value:         38 characters\n",
      "\tMost common values:    None (117211x)\n",
      "\t                       RETIRED (87071x)\n",
      "\t                       SELF-EMPLOYED (16920x)\n",
      "\t                       NOT EMPLOYED (6223x)\n",
      "\t                       INFORMATION REQUESTED PER BEST EFFORTS (4397x)\n",
      "\n",
      "  9. \"TRANSACTION_DT\"\n",
      "\n",
      "\tType of data:          Number\n",
      "\tContains null values:  True (excluded from calculations)\n",
      "\tUnique values:         863\n",
      "\tSmallest value:        1,012,018\n",
      "\tLargest value:         12,312,018\n",
      "\tSum:                   1,730,006,877,277\n",
      "\tMean:                  5,715,781.035\n",
      "\tMedian:                5,232,019\n",
      "\tStDev:                 3,062,634.912\n",
      "\tMost common values:    6,302,019 (4435x)\n",
      "\t                       6,192,019 (4217x)\n",
      "\t                       6,182,019 (4198x)\n",
      "\t                       6,252,019 (4065x)\n",
      "\t                       3,312,019 (3996x)\n",
      "\n",
      " 10. \"TRANSACTION_AMT\"\n",
      "\n",
      "\tType of data:          Number\n",
      "\tContains null values:  False\n",
      "\tUnique values:         4523\n",
      "\tSmallest value:        -338,837\n",
      "\tLargest value:         15,195,074\n",
      "\tSum:                   959,414,976\n",
      "\tMean:                  3,169.514\n",
      "\tMedian:                100\n",
      "\tStDev:                 73,996.309\n",
      "\tMost common values:    1,000 (38333x)\n",
      "\t                       25 (27402x)\n",
      "\t                       5,000 (22993x)\n",
      "\t                       2,500 (21297x)\n",
      "\t                       12 (20795x)\n",
      "\n",
      "Row count: 302701\n"
     ]
    }
   ],
   "source": [
    "!csvstat -c 1:10  stats1.csv #generate the stats information of each column."
   ]
  },
  {
   "cell_type": "markdown",
   "metadata": {},
   "source": [
    "## Q4 Displaying Sample Data for 'Cmit_id'"
   ]
  },
  {
   "cell_type": "code",
   "execution_count": 13,
   "metadata": {},
   "outputs": [
    {
     "name": "stdout",
     "output_type": "stream",
     "text": [
      "| CMTE_ID   | TRANSACTION_PGI | ENTITY_TP | NAME                                                                                                                                                                       | CITY                           | STATE | ZIP_CODE  | EMPLOYER                               | TRANSACTION_DT | TRANSACTION_AMT |\n",
      "| --------- | --------------- | --------- | -------------------------------------------------------------------------------------------------------------------------------------------------------------------------- | ------------------------------ | ----- | --------- | -------------------------------------- | -------------- | --------------- |\n",
      "| C00000059 | P               | CCM       | MEADOWS FOR CONGRESS                                                                                                                                                       | HENDERSONVILLE                 | NC    | 28793     |                                        |      3,182,019 |           1,000 |\n",
      "| C00000059 | P               | CCM       | GRAVES FOR CONGRESS                                                                                                                                                        | KANSAS CITY                    | MO    | 64108     |                                        |      3,182,019 |           1,500 |\n",
      "| C00000059 | P               | CCM       | CUMMINGS FOR CONGRESS CAMPAIGN COMMITTEE                                                                                                                                   | BALTIMORE                      | MD    | 21203     |                                        |      3,182,019 |           2,000 |\n",
      "| C00000059 | P               | CCM       | CLEAVER FOR CONGRESS                                                                                                                                                       | KANSAS CITY                    | MO    | 64112     |                                        |      3,182,019 |           1,000 |\n",
      "| C00000059 | P               | CCM       | BLAINE FOR CONGRESS                                                                                                                                                        | ST. ELIZABETH                  | MO    | 65075     |                                        |      3,182,019 |           1,000 |\n",
      "| C00000059 | P               | CCM       | KANSANS FOR MARSHALL                                                                                                                                                       | GREAT BEND                     | KS    | 67530     |                                        |      3,182,019 |           2,000 |\n",
      "| C00000059 | P               | CCM       | BRENDA LAWRENCE FOR CONGRESS                                                                                                                                               | SOUTHFIELD                     | MI    | 48037     |                                        |      3,182,019 |           1,000 |\n",
      "| C00000059 | P               | CCM       | VICKY HARTZLER FOR CONGRESS                                                                                                                                                | HARRISONVILLE                  | MO    | 64701     |                                        |      3,182,019 |           1,000 |\n",
      "| C00000059 | P               | CCM       | PETERS FOR MICHIGAN                                                                                                                                                        | DETROIT                        | MI    | 48244     |                                        |      3,182,019 |           2,500 |\n",
      "| C00000059 | P               | CCM       | CONNOLLY FOR CONGRESS                                                                                                                                                      | MERRIFIELD                     | VA    | 22116     |                                        |      3,182,019 |           2,500 |\n",
      "| C00000059 | P               | CCM       | COLLINS FOR SENATOR                                                                                                                                                        | BANGOR                         | ME    | 04402     |                                        |      3,262,019 |           1,000 |\n",
      "| C00000059 | G               | CCM       | PORTMAN FOR SENATE COMMITTEE                                                                                                                                               | CINCINNATI                     | OH    | 45244     |                                        |      3,262,019 |           1,000 |\n",
      "| C00000059 | P               | CCM       | CONNOLLY FOR CONGRESS                                                                                                                                                      | MERRIFIELD                     | VA    | 22116     |                                        |      6,242,019 |           1,000 |\n"
     ]
    }
   ],
   "source": [
    "!csvsort -c 1 stats1.csv | csvlook | head -n 15 #sort cmte_id  and use csvlook to get the first 15 rows."
   ]
  },
  {
   "cell_type": "markdown",
   "metadata": {},
   "source": [
    "## Q5 Filtering Results"
   ]
  },
  {
   "cell_type": "markdown",
   "metadata": {},
   "source": [
    "We select C00003418 as our target and only display the first 15 rows of this id."
   ]
  },
  {
   "cell_type": "code",
   "execution_count": null,
   "metadata": {},
   "outputs": [],
   "source": [
    "!csvgrep -c 1 -m C00003418 stats1.csv| csvlook | head -n 15 #sort one particular id (CM00003418) and get the first 15 rows of this one id."
   ]
  },
  {
   "cell_type": "markdown",
   "metadata": {},
   "source": [
    "## Q6 Creating Result in Tab Delimiter and Quote All Strings"
   ]
  },
  {
   "cell_type": "code",
   "execution_count": 14,
   "metadata": {},
   "outputs": [
    {
     "name": "stdout",
     "output_type": "stream",
     "text": [
      "\"CMTE_ID\"\t\"TRANSACTION_PGI\"\t\"ENTITY_TP\"\t\"NAME\"\t\"CITY\"\t\"STATE\"\t\"ZIP_CODE\"\t\"EMPLOYER\"\t\"TRANSACTION_DT\"\t\"TRANSACTION_AMT\"\n",
      "\"C00000059\"\t\"P\"\t\"CCM\"\t\"MEADOWS FOR CONGRESS\"\t\"HENDERSONVILLE\"\t\"NC\"\t\"28793\"\t\"\"\t\"3182019\"\t\"1000\"\n",
      "\"C00000059\"\t\"P\"\t\"CCM\"\t\"GRAVES FOR CONGRESS\"\t\"KANSAS CITY\"\t\"MO\"\t\"64108\"\t\"\"\t\"3182019\"\t\"1500\"\n",
      "\"C00000059\"\t\"P\"\t\"CCM\"\t\"CUMMINGS FOR CONGRESS CAMPAIGN COMMITTEE\"\t\"BALTIMORE\"\t\"MD\"\t\"21203\"\t\"\"\t\"3182019\"\t\"2000\"\n",
      "\"C00000059\"\t\"P\"\t\"CCM\"\t\"CLEAVER FOR CONGRESS\"\t\"KANSAS CITY\"\t\"MO\"\t\"64112\"\t\"\"\t\"3182019\"\t\"1000\"\n",
      "\"C00000059\"\t\"P\"\t\"CCM\"\t\"BLAINE FOR CONGRESS\"\t\"ST. ELIZABETH\"\t\"MO\"\t\"65075\"\t\"\"\t\"3182019\"\t\"1000\"\n",
      "\"C00000059\"\t\"P\"\t\"CCM\"\t\"KANSANS FOR MARSHALL\"\t\"GREAT BEND\"\t\"KS\"\t\"67530\"\t\"\"\t\"3182019\"\t\"2000\"\n",
      "\"C00000059\"\t\"P\"\t\"CCM\"\t\"BRENDA LAWRENCE FOR CONGRESS\"\t\"SOUTHFIELD\"\t\"MI\"\t\"48037\"\t\"\"\t\"3182019\"\t\"1000\"\n",
      "\"C00000059\"\t\"P\"\t\"CCM\"\t\"VICKY HARTZLER FOR CONGRESS\"\t\"HARRISONVILLE\"\t\"MO\"\t\"64701\"\t\"\"\t\"3182019\"\t\"1000\"\n",
      "\"C00000059\"\t\"P\"\t\"CCM\"\t\"PETERS FOR MICHIGAN\"\t\"DETROIT\"\t\"MI\"\t\"48244\"\t\"\"\t\"3182019\"\t\"2500\"\n",
      "\"C00000059\"\t\"P\"\t\"CCM\"\t\"CONNOLLY FOR CONGRESS\"\t\"MERRIFIELD\"\t\"VA\"\t\"22116\"\t\"\"\t\"3182019\"\t\"2500\"\n",
      "\"C00000059\"\t\"P\"\t\"CCM\"\t\"COLLINS FOR SENATOR\"\t\"BANGOR\"\t\"ME\"\t\"04402\"\t\"\"\t\"3262019\"\t\"1000\"\n",
      "\"C00000059\"\t\"G\"\t\"CCM\"\t\"PORTMAN FOR SENATE COMMITTEE\"\t\"CINCINNATI\"\t\"OH\"\t\"45244\"\t\"\"\t\"3262019\"\t\"1000\"\n",
      "\"C00000059\"\t\"P\"\t\"CCM\"\t\"CONNOLLY FOR CONGRESS\"\t\"MERRIFIELD\"\t\"VA\"\t\"22116\"\t\"\"\t\"6242019\"\t\"1000\"\n",
      "\"C00000059\"\t\"G\"\t\"CCM\"\t\"FRIENDS OF PAT TOOMEY\"\t\"ALEXANDRIA\"\t\"VA\"\t\"22314\"\t\"\"\t\"6242019\"\t\"1000\"\n"
     ]
    }
   ],
   "source": [
    "!csvsort -c 1 stats1.csv | csvformat -T -U 2 | head -n 15\n",
    "#we sort our stats1 file by cmte_id, then format the data with tab delimiter, lastly, we quote all strings"
   ]
  },
  {
   "cell_type": "markdown",
   "metadata": {},
   "source": [
    "* Since we convert the dataset from txt into csv, we think all the data inputs are labeled as strings in the csv even it looks like a numeric. That is the reason why all the cell are quoted."
   ]
  },
  {
   "cell_type": "markdown",
   "metadata": {},
   "source": [
    "## Q7 Generate Simple Analytics"
   ]
  },
  {
   "cell_type": "markdown",
   "metadata": {},
   "source": [
    "find total number of unique committees for 2019 for each party by states"
   ]
  },
  {
   "cell_type": "code",
   "execution_count": 14,
   "metadata": {},
   "outputs": [],
   "source": [
    "!csvcut -c 6,1 stats1.csv | sort -u > stats2.csv \n",
    "#extract the states and cmte_id from stats1, sort the states and choose the unique value of id, then save into a new file."
   ]
  },
  {
   "cell_type": "code",
   "execution_count": 15,
   "metadata": {},
   "outputs": [
    {
     "name": "stdout",
     "output_type": "stream",
     "text": [
      "      1 AA\n",
      "      1 AE\n",
      "    339 AK\n",
      "    685 AL\n",
      "      1 AP\n",
      "    469 AR\n",
      "    743 AZ\n",
      "   1652 CA\n",
      "    714 CO\n",
      "    567 CT\n",
      "   2469 DC\n",
      "    378 DE\n",
      "   1098 FL\n",
      "      1 FM\n",
      "   1079 GA\n",
      "     10 GU\n",
      "    134 HI\n",
      "    648 IA\n",
      "    270 ID\n",
      "   1172 IL\n",
      "    701 IN\n",
      "    536 KS\n",
      "    673 KY\n",
      "    619 LA\n",
      "    852 MA\n",
      "    956 MD\n",
      "    394 ME\n",
      "    998 MI\n",
      "    738 MN\n",
      "    829 MO\n",
      "      5 MP\n",
      "    383 MS\n",
      "    412 MT\n",
      "   1037 NC\n",
      "    230 ND\n",
      "    487 NE\n",
      "    349 NH\n",
      "    841 NJ\n",
      "    368 NM\n",
      "    415 NV\n",
      "   1358 NY\n",
      "    917 OH\n",
      "    624 OK\n",
      "    650 OR\n",
      "    994 PA\n",
      "     35 PR\n",
      "    282 RI\n",
      "    739 SC\n",
      "    425 SD\n",
      "      1 STATE\n",
      "    472 TN\n",
      "   1469 TX\n",
      "    323 UT\n",
      "   1751 VA\n",
      "     42 VI\n",
      "    115 VT\n",
      "    784 WA\n",
      "    576 WI\n",
      "    386 WV\n",
      "    276 WY\n",
      "      7 ZZ\n"
     ]
    }
   ],
   "source": [
    "!csvcut -c 1 -x stats2.csv | sort | uniq -c \n",
    "# we count the unique number of cmte_id of each state after sorted the state. "
   ]
  },
  {
   "cell_type": "markdown",
   "metadata": {},
   "source": [
    "Find the total number of unique employees"
   ]
  },
  {
   "cell_type": "code",
   "execution_count": 16,
   "metadata": {},
   "outputs": [],
   "source": [
    "!csvcut -c 8 stats1.csv | sort -u | sed 1d  > stats3.csv\n",
    "#sed 1d removes the header so we do not have extra one count. "
   ]
  },
  {
   "cell_type": "code",
   "execution_count": 17,
   "metadata": {},
   "outputs": [
    {
     "name": "stdout",
     "output_type": "stream",
     "text": [
      "Row count: 21747\n"
     ]
    }
   ],
   "source": [
    "!csvstat -c 1 --count stats3.csv"
   ]
  },
  {
   "cell_type": "markdown",
   "metadata": {},
   "source": [
    "## Participation and Question Responsibility"
   ]
  },
  {
   "cell_type": "markdown",
   "metadata": {},
   "source": [
    "* We had 2 offline meetings about 3 hours to determine our timeline and discuss the questions and dataset overall. \n",
    "* We communicate and solve all questions together through online. Each of us tries to  come up with better solutions and make sure we understand each line of the code. Especially for the last two questions, we encoutered some issue and struggled a little bit. However, we worked together from checking online sources about csvkit comand to changing different paramters to observe output, and eventually we resolve the problems. \n",
    "* We also check the reproductivity of the code on our own devices respectively. \n",
    "\n"
   ]
  }
 ],
 "metadata": {
  "kernelspec": {
   "display_name": "Python 3",
   "language": "python",
   "name": "python3"
  },
  "language_info": {
   "codemirror_mode": {
    "name": "ipython",
    "version": 3
   },
   "file_extension": ".py",
   "mimetype": "text/x-python",
   "name": "python",
   "nbconvert_exporter": "python",
   "pygments_lexer": "ipython3",
   "version": "3.5.3"
  }
 },
 "nbformat": 4,
 "nbformat_minor": 2
}
